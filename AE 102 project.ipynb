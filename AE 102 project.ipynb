{
 "cells": [
  {
   "cell_type": "code",
   "execution_count": 1,
   "id": "40cb2705",
   "metadata": {},
   "outputs": [],
   "source": [
    "import pandas as pd\n",
    "import numpy as np\n",
    "import matplotlib.pyplot as plt\n",
    "from ipywidgets import interact"
   ]
  },
  {
   "cell_type": "code",
   "execution_count": 2,
   "id": "38ecbcb2",
   "metadata": {},
   "outputs": [],
   "source": [
    "data=pd.read_csv('merged.csv')\n",
    "data=data.dropna()"
   ]
  },
  {
   "cell_type": "code",
   "execution_count": 3,
   "id": "e47e6fcf",
   "metadata": {},
   "outputs": [
    {
     "data": {
      "text/html": [
       "<div>\n",
       "<style scoped>\n",
       "    .dataframe tbody tr th:only-of-type {\n",
       "        vertical-align: middle;\n",
       "    }\n",
       "\n",
       "    .dataframe tbody tr th {\n",
       "        vertical-align: top;\n",
       "    }\n",
       "\n",
       "    .dataframe thead th {\n",
       "        text-align: right;\n",
       "    }\n",
       "</style>\n",
       "<table border=\"1\" class=\"dataframe\">\n",
       "  <thead>\n",
       "    <tr style=\"text-align: right;\">\n",
       "      <th></th>\n",
       "      <th>Race ID</th>\n",
       "      <th>Driver ID</th>\n",
       "      <th>position</th>\n",
       "      <th>avg laptime</th>\n",
       "      <th>Avg Pit Time</th>\n",
       "    </tr>\n",
       "  </thead>\n",
       "  <tbody>\n",
       "    <tr>\n",
       "      <th>0</th>\n",
       "      <td>841</td>\n",
       "      <td>1</td>\n",
       "      <td>2.0</td>\n",
       "      <td>92975.103448</td>\n",
       "      <td>23213.000000</td>\n",
       "    </tr>\n",
       "    <tr>\n",
       "      <th>1</th>\n",
       "      <td>42</td>\n",
       "      <td>18</td>\n",
       "      <td>12.0</td>\n",
       "      <td>76989.958333</td>\n",
       "      <td>23252.750000</td>\n",
       "    </tr>\n",
       "    <tr>\n",
       "      <th>2</th>\n",
       "      <td>842</td>\n",
       "      <td>1</td>\n",
       "      <td>7.0</td>\n",
       "      <td>105531.946429</td>\n",
       "      <td>23252.750000</td>\n",
       "    </tr>\n",
       "    <tr>\n",
       "      <th>3</th>\n",
       "      <td>43</td>\n",
       "      <td>18</td>\n",
       "      <td>8.0</td>\n",
       "      <td>78758.357143</td>\n",
       "      <td>20659.333333</td>\n",
       "    </tr>\n",
       "    <tr>\n",
       "      <th>4</th>\n",
       "      <td>843</td>\n",
       "      <td>1</td>\n",
       "      <td>1.0</td>\n",
       "      <td>103896.892857</td>\n",
       "      <td>20659.333333</td>\n",
       "    </tr>\n",
       "    <tr>\n",
       "      <th>...</th>\n",
       "      <td>...</td>\n",
       "      <td>...</td>\n",
       "      <td>...</td>\n",
       "      <td>...</td>\n",
       "      <td>...</td>\n",
       "    </tr>\n",
       "    <tr>\n",
       "      <th>4099</th>\n",
       "      <td>1054</td>\n",
       "      <td>854</td>\n",
       "      <td>17.0</td>\n",
       "      <td>88732.046875</td>\n",
       "      <td>23572.666667</td>\n",
       "    </tr>\n",
       "    <tr>\n",
       "      <th>4100</th>\n",
       "      <td>1055</td>\n",
       "      <td>854</td>\n",
       "      <td>18.0</td>\n",
       "      <td>87365.500000</td>\n",
       "      <td>23158.000000</td>\n",
       "    </tr>\n",
       "    <tr>\n",
       "      <th>4101</th>\n",
       "      <td>1056</td>\n",
       "      <td>854</td>\n",
       "      <td>18.0</td>\n",
       "      <td>79684.253333</td>\n",
       "      <td>24797.000000</td>\n",
       "    </tr>\n",
       "    <tr>\n",
       "      <th>4102</th>\n",
       "      <td>1057</td>\n",
       "      <td>854</td>\n",
       "      <td>14.0</td>\n",
       "      <td>157463.745098</td>\n",
       "      <td>428604.400000</td>\n",
       "    </tr>\n",
       "    <tr>\n",
       "      <th>4103</th>\n",
       "      <td>1059</td>\n",
       "      <td>854</td>\n",
       "      <td>19.0</td>\n",
       "      <td>101921.288462</td>\n",
       "      <td>31457.000000</td>\n",
       "    </tr>\n",
       "  </tbody>\n",
       "</table>\n",
       "<p>4104 rows × 5 columns</p>\n",
       "</div>"
      ],
      "text/plain": [
       "      Race ID  Driver ID  position    avg laptime   Avg Pit Time\n",
       "0         841          1       2.0   92975.103448   23213.000000\n",
       "1          42         18      12.0   76989.958333   23252.750000\n",
       "2         842          1       7.0  105531.946429   23252.750000\n",
       "3          43         18       8.0   78758.357143   20659.333333\n",
       "4         843          1       1.0  103896.892857   20659.333333\n",
       "...       ...        ...       ...            ...            ...\n",
       "4099     1054        854      17.0   88732.046875   23572.666667\n",
       "4100     1055        854      18.0   87365.500000   23158.000000\n",
       "4101     1056        854      18.0   79684.253333   24797.000000\n",
       "4102     1057        854      14.0  157463.745098  428604.400000\n",
       "4103     1059        854      19.0  101921.288462   31457.000000\n",
       "\n",
       "[4104 rows x 5 columns]"
      ]
     },
     "execution_count": 3,
     "metadata": {},
     "output_type": "execute_result"
    }
   ],
   "source": [
    "data"
   ]
  },
  {
   "cell_type": "code",
   "execution_count": 4,
   "id": "c34e3429",
   "metadata": {},
   "outputs": [],
   "source": [
    "#True mean and Variance/standard deviation of laptime"
   ]
  },
  {
   "cell_type": "code",
   "execution_count": 5,
   "id": "1c895688",
   "metadata": {},
   "outputs": [
    {
     "name": "stdout",
     "output_type": "stream",
     "text": [
      "For Laptime\n",
      "mean : 101403.23845763432 std : 23104.209339243884 variance : 533804489.19160426\n"
     ]
    }
   ],
   "source": [
    "mean=data['avg laptime'].mean()\n",
    "variance=data['avg laptime'].var()\n",
    "std=data['avg laptime'].std()\n",
    "print('For Laptime')\n",
    "print(f'mean : {mean} std : {std} variance : {variance}')"
   ]
  },
  {
   "cell_type": "code",
   "execution_count": 6,
   "id": "1c2fa726",
   "metadata": {},
   "outputs": [],
   "source": [
    "means=[]\n",
    "variances=[]\n",
    "stds=[]\n",
    "for i in range(1000):\n",
    "    sample=data['avg laptime'].sample(100,replace=True)\n",
    "    means.append(sample.mean())\n",
    "    variances.append(sample.var())\n",
    "    stds.append(sample.std())\n",
    "    "
   ]
  },
  {
   "cell_type": "code",
   "execution_count": 7,
   "id": "d981b15b",
   "metadata": {},
   "outputs": [
    {
     "data": {
      "image/png": "[encoded data removed]",
      "text/plain": [
       "<Figure size 432x288 with 1 Axes>"
      ]
     },
     "metadata": {
      "needs_background": "light"
     },
     "output_type": "display_data"
    }
   ],
   "source": [
    "plt.hist(means,bins=50)\n",
    "plt.show()"
   ]
  },
  {
   "cell_type": "code",
   "execution_count": 8,
   "id": "15ee7cb7",
   "metadata": {},
   "outputs": [
    {
     "data": {
      "image/png": "[encoded data removed]",
      "text/plain": [
       "<Figure size 432x288 with 1 Axes>"
      ]
     },
     "metadata": {
      "needs_background": "light"
     },
     "output_type": "display_data"
    }
   ],
   "source": [
    "plt.hist(variances,bins=50)\n",
    "plt.show()"
   ]
  },
  {
   "cell_type": "code",
   "execution_count": 9,
   "id": "f7730ace",
   "metadata": {},
   "outputs": [
    {
     "name": "stdout",
     "output_type": "stream",
     "text": [
      "For Pit time\n",
      "mean : 48573.881298732944 std : 129834.5462929757 variance : 16857009411.102852\n"
     ]
    }
   ],
   "source": [
    "# True mean and Variance/standard deviation of pit time\n",
    "mean_=data['Avg Pit Time'].mean()\n",
    "variance_=data['Avg Pit Time'].var()\n",
    "std_=data['Avg Pit Time'].std()\n",
    "print('For Pit time')\n",
    "print(f'mean : {mean_} std : {std_} variance : {variance_}')"
   ]
  },
  {
   "cell_type": "code",
   "execution_count": 10,
   "id": "9c56eba3",
   "metadata": {},
   "outputs": [],
   "source": [
    "means_=[]\n",
    "variances_=[]\n",
    "stds_=[]\n",
    "for i in range(1000):\n",
    "    sample=data['Avg Pit Time'].sample(100,replace=True)\n",
    "    means_.append(sample.mean())\n",
    "    variances_.append(sample.var())\n",
    "    stds_.append(sample.std())\n",
    "    "
   ]
  },
  {
   "cell_type": "code",
   "execution_count": 11,
   "id": "71316b0f",
   "metadata": {},
   "outputs": [
    {
     "data": {
      "image/png": "[encoded data removed]",
      "text/plain": [
       "<Figure size 432x288 with 1 Axes>"
      ]
     },
     "metadata": {
      "needs_background": "light"
     },
     "output_type": "display_data"
    }
   ],
   "source": [
    "plt.hist(means_,bins=50)\n",
    "plt.show()"
   ]
  },
  {
   "cell_type": "code",
   "execution_count": 12,
   "id": "fbc0fc92",
   "metadata": {},
   "outputs": [
    {
     "data": {
      "image/png": "[encoded data removed]",
      "text/plain": [
       "<Figure size 432x288 with 1 Axes>"
      ]
     },
     "metadata": {
      "needs_background": "light"
     },
     "output_type": "display_data"
    }
   ],
   "source": [
    "plt.hist(variances_,bins=50)\n",
    "plt.show()"
   ]
  },
  {
   "cell_type": "code",
   "execution_count": 13,
   "id": "d7523f0a",
   "metadata": {},
   "outputs": [],
   "source": [
    "def f(Input,value,sample_size,bins):\n",
    "    mean=[]\n",
    "    variance=[]\n",
    "    std=[]\n",
    "    if Input=='Laptime':\n",
    "        x='avg laptime'\n",
    "    else :\n",
    "        x='Avg Pit Time'\n",
    "    for i in range(1000):\n",
    "        sample=data[x].sample(sample_size,replace=True)\n",
    "        mean.append(sample.mean())\n",
    "        variance.append(sample.var())\n",
    "        std.append(sample.std())\n",
    "    plt.hist(eval(value),bins=bins)\n",
    "    "
   ]
  },
  {
   "cell_type": "code",
   "execution_count": 14,
   "id": "4180826c",
   "metadata": {},
   "outputs": [
    {
     "data": {
      "application/vnd.jupyter.widget-view+json": {
       "model_id": "7b7324a6fec043dd99099b2f6e2ee629",
       "version_major": 2,
       "version_minor": 0
      },
      "text/plain": [
       "interactive(children=(Dropdown(description='Input', options=('Laptime', 'Pit Time'), value='Laptime'), Dropdow…"
      ]
     },
     "metadata": {},
     "output_type": "display_data"
    },
    {
     "data": {
      "text/plain": [
       "<function __main__.f(Input, value, sample_size, bins)>"
      ]
     },
     "execution_count": 14,
     "metadata": {},
     "output_type": "execute_result"
    }
   ],
   "source": [
    "interact(f,Input=['Laptime',\"Pit Time\"],value=['mean','variance','std'],sample_size=(1,1000),bins=(1,500))"
   ]
  }
 ],
 "metadata": {
  "kernelspec": {
   "display_name": "Python 3",
   "language": "python",
   "name": "python3"
  },
  "language_info": {
   "codemirror_mode": {
    "name": "ipython",
    "version": 3
   },
   "file_extension": ".py",
   "mimetype": "text/x-python",
   "name": "python",
   "nbconvert_exporter": "python",
   "pygments_lexer": "ipython3",
   "version": "3.8.5"
  }
 },
 "nbformat": 4,
 "nbformat_minor": 5
}
