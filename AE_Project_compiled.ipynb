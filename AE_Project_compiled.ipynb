{
 "cells": [
  {
   "cell_type": "markdown",
   "metadata": {
    "id": "l4zai5ix7A-1"
   },
   "source": [
    "#<h1><center>FormulAE - 1</center></h1>\n",
    "#<h1><center>The Racing Analysts!</center></h1>"
   ]
  },
  {
   "cell_type": "markdown",
   "metadata": {
    "id": "Pqe2MLxLvY2E"
   },
   "source": [
    "###Importing all the modules required:"
   ]
  },
  {
   "cell_type": "code",
   "execution_count": 2,
   "metadata": {
    "id": "QNYpl98gRgfj"
   },
   "outputs": [],
   "source": [
    "%matplotlib inline\n",
    "import numpy as np\n",
    "import pandas as pd\n",
    "import matplotlib.pyplot as plt\n",
    "from ipywidgets import interact\n",
    "from scipy.stats import norm,chi2,t\n",
    "from math import sqrt\n",
    "import seaborn as sns"
   ]
  },
  {
   "cell_type": "markdown",
   "metadata": {
    "id": "9epuHtll7Sgs"
   },
   "source": [
    "##In this project, we analyse two random variables from various Formula 1 races, namely\n",
    "\n",
    "\n",
    "*   Average Pitstop time in a race for a particular driver in a race\n",
    "*   Average Laptime in that particular race\n",
    "\n"
   ]
  },
  {
   "cell_type": "markdown",
   "metadata": {
    "id": "-LARRBdRvn5O"
   },
   "source": [
    "\n",
    "##Now, let's take a look at our Raw data, the average Lap times and the average Pitstop times."
   ]
  },
  {
   "cell_type": "code",
   "execution_count": 3,
   "metadata": {
    "colab": {
     "base_uri": "https://localhost:8080/",
     "height": 406
    },
    "id": "Ne-pI0NJRgfn",
    "outputId": "eda7d916-80ca-4cef-fd5f-acf2e9cb8c4e"
   },
   "outputs": [
    {
     "data": {
      "text/html": [
       "<div>\n",
       "<style scoped>\n",
       "    .dataframe tbody tr th:only-of-type {\n",
       "        vertical-align: middle;\n",
       "    }\n",
       "\n",
       "    .dataframe tbody tr th {\n",
       "        vertical-align: top;\n",
       "    }\n",
       "\n",
       "    .dataframe thead th {\n",
       "        text-align: right;\n",
       "    }\n",
       "</style>\n",
       "<table border=\"1\" class=\"dataframe\">\n",
       "  <thead>\n",
       "    <tr style=\"text-align: right;\">\n",
       "      <th></th>\n",
       "      <th>Unnamed: 0</th>\n",
       "      <th>Race ID</th>\n",
       "      <th>Driver ID</th>\n",
       "      <th>position</th>\n",
       "      <th>avg laptime</th>\n",
       "      <th>Avg Pit Time</th>\n",
       "    </tr>\n",
       "  </thead>\n",
       "  <tbody>\n",
       "    <tr>\n",
       "      <th>0</th>\n",
       "      <td>0</td>\n",
       "      <td>841</td>\n",
       "      <td>1</td>\n",
       "      <td>2.0</td>\n",
       "      <td>92975.103448</td>\n",
       "      <td>23213.000000</td>\n",
       "    </tr>\n",
       "    <tr>\n",
       "      <th>1</th>\n",
       "      <td>1</td>\n",
       "      <td>42</td>\n",
       "      <td>18</td>\n",
       "      <td>12.0</td>\n",
       "      <td>76989.958333</td>\n",
       "      <td>23252.750000</td>\n",
       "    </tr>\n",
       "    <tr>\n",
       "      <th>2</th>\n",
       "      <td>2</td>\n",
       "      <td>842</td>\n",
       "      <td>1</td>\n",
       "      <td>7.0</td>\n",
       "      <td>105531.946429</td>\n",
       "      <td>23252.750000</td>\n",
       "    </tr>\n",
       "    <tr>\n",
       "      <th>3</th>\n",
       "      <td>3</td>\n",
       "      <td>43</td>\n",
       "      <td>18</td>\n",
       "      <td>8.0</td>\n",
       "      <td>78758.357143</td>\n",
       "      <td>20659.333333</td>\n",
       "    </tr>\n",
       "    <tr>\n",
       "      <th>4</th>\n",
       "      <td>4</td>\n",
       "      <td>843</td>\n",
       "      <td>1</td>\n",
       "      <td>1.0</td>\n",
       "      <td>103896.892857</td>\n",
       "      <td>20659.333333</td>\n",
       "    </tr>\n",
       "    <tr>\n",
       "      <th>...</th>\n",
       "      <td>...</td>\n",
       "      <td>...</td>\n",
       "      <td>...</td>\n",
       "      <td>...</td>\n",
       "      <td>...</td>\n",
       "      <td>...</td>\n",
       "    </tr>\n",
       "    <tr>\n",
       "      <th>3921</th>\n",
       "      <td>4097</td>\n",
       "      <td>1052</td>\n",
       "      <td>854</td>\n",
       "      <td>16.0</td>\n",
       "      <td>101830.981818</td>\n",
       "      <td>25570.500000</td>\n",
       "    </tr>\n",
       "    <tr>\n",
       "      <th>3922</th>\n",
       "      <td>4099</td>\n",
       "      <td>1054</td>\n",
       "      <td>854</td>\n",
       "      <td>17.0</td>\n",
       "      <td>88732.046875</td>\n",
       "      <td>23572.666667</td>\n",
       "    </tr>\n",
       "    <tr>\n",
       "      <th>3923</th>\n",
       "      <td>4100</td>\n",
       "      <td>1055</td>\n",
       "      <td>854</td>\n",
       "      <td>18.0</td>\n",
       "      <td>87365.500000</td>\n",
       "      <td>23158.000000</td>\n",
       "    </tr>\n",
       "    <tr>\n",
       "      <th>3924</th>\n",
       "      <td>4101</td>\n",
       "      <td>1056</td>\n",
       "      <td>854</td>\n",
       "      <td>18.0</td>\n",
       "      <td>79684.253333</td>\n",
       "      <td>24797.000000</td>\n",
       "    </tr>\n",
       "    <tr>\n",
       "      <th>3925</th>\n",
       "      <td>4103</td>\n",
       "      <td>1059</td>\n",
       "      <td>854</td>\n",
       "      <td>19.0</td>\n",
       "      <td>101921.288462</td>\n",
       "      <td>31457.000000</td>\n",
       "    </tr>\n",
       "  </tbody>\n",
       "</table>\n",
       "<p>3926 rows × 6 columns</p>\n",
       "</div>"
      ],
      "text/plain": [
       "      Unnamed: 0  Race ID  Driver ID  position    avg laptime  Avg Pit Time\n",
       "0              0      841          1       2.0   92975.103448  23213.000000\n",
       "1              1       42         18      12.0   76989.958333  23252.750000\n",
       "2              2      842          1       7.0  105531.946429  23252.750000\n",
       "3              3       43         18       8.0   78758.357143  20659.333333\n",
       "4              4      843          1       1.0  103896.892857  20659.333333\n",
       "...          ...      ...        ...       ...            ...           ...\n",
       "3921        4097     1052        854      16.0  101830.981818  25570.500000\n",
       "3922        4099     1054        854      17.0   88732.046875  23572.666667\n",
       "3923        4100     1055        854      18.0   87365.500000  23158.000000\n",
       "3924        4101     1056        854      18.0   79684.253333  24797.000000\n",
       "3925        4103     1059        854      19.0  101921.288462  31457.000000\n",
       "\n",
       "[3926 rows x 6 columns]"
      ]
     },
     "execution_count": 3,
     "metadata": {},
     "output_type": "execute_result"
    }
   ],
   "source": [
    "df1=pd.read_csv(\"filtered merged.csv\")\n",
    "df1"
   ]
  },
  {
   "cell_type": "markdown",
   "metadata": {
    "id": "nKWwI28jv6Ov"
   },
   "source": [
    "###Inspecting the basic parameters of our dataset using pandas:"
   ]
  },
  {
   "cell_type": "code",
   "execution_count": 4,
   "metadata": {
    "colab": {
     "base_uri": "https://localhost:8080/",
     "height": 287
    },
    "id": "T9UblffFRgfo",
    "outputId": "c67aec7d-9753-457f-a282-a93775088924",
    "scrolled": true
   },
   "outputs": [
    {
     "data": {
      "text/html": [
       "<div>\n",
       "<style scoped>\n",
       "    .dataframe tbody tr th:only-of-type {\n",
       "        vertical-align: middle;\n",
       "    }\n",
       "\n",
       "    .dataframe tbody tr th {\n",
       "        vertical-align: top;\n",
       "    }\n",
       "\n",
       "    .dataframe thead th {\n",
       "        text-align: right;\n",
       "    }\n",
       "</style>\n",
       "<table border=\"1\" class=\"dataframe\">\n",
       "  <thead>\n",
       "    <tr style=\"text-align: right;\">\n",
       "      <th></th>\n",
       "      <th>avg laptime</th>\n",
       "      <th>Avg Pit Time</th>\n",
       "    </tr>\n",
       "  </thead>\n",
       "  <tbody>\n",
       "    <tr>\n",
       "      <th>count</th>\n",
       "      <td>3926.000000</td>\n",
       "      <td>3926.000000</td>\n",
       "    </tr>\n",
       "    <tr>\n",
       "      <th>mean</th>\n",
       "      <td>99494.193197</td>\n",
       "      <td>24696.035885</td>\n",
       "    </tr>\n",
       "    <tr>\n",
       "      <th>std</th>\n",
       "      <td>19008.187893</td>\n",
       "      <td>4411.361896</td>\n",
       "    </tr>\n",
       "    <tr>\n",
       "      <th>min</th>\n",
       "      <td>62932.344828</td>\n",
       "      <td>16549.000000</td>\n",
       "    </tr>\n",
       "    <tr>\n",
       "      <th>25%</th>\n",
       "      <td>87230.852046</td>\n",
       "      <td>22085.500000</td>\n",
       "    </tr>\n",
       "    <tr>\n",
       "      <th>50%</th>\n",
       "      <td>99278.283019</td>\n",
       "      <td>23666.500000</td>\n",
       "    </tr>\n",
       "    <tr>\n",
       "      <th>75%</th>\n",
       "      <td>107601.534391</td>\n",
       "      <td>25953.000000</td>\n",
       "    </tr>\n",
       "    <tr>\n",
       "      <th>max</th>\n",
       "      <td>379323.607143</td>\n",
       "      <td>89258.000000</td>\n",
       "    </tr>\n",
       "  </tbody>\n",
       "</table>\n",
       "</div>"
      ],
      "text/plain": [
       "         avg laptime  Avg Pit Time\n",
       "count    3926.000000   3926.000000\n",
       "mean    99494.193197  24696.035885\n",
       "std     19008.187893   4411.361896\n",
       "min     62932.344828  16549.000000\n",
       "25%     87230.852046  22085.500000\n",
       "50%     99278.283019  23666.500000\n",
       "75%    107601.534391  25953.000000\n",
       "max    379323.607143  89258.000000"
      ]
     },
     "execution_count": 4,
     "metadata": {},
     "output_type": "execute_result"
    }
   ],
   "source": [
    "df1.drop(columns=['Unnamed: 0','Race ID','Driver ID','position']).describe()"
   ]
  },
  {
   "cell_type": "markdown",
   "metadata": {
    "id": "4C-AAw3_xoA5"
   },
   "source": [
    "##Now, let's have a closer look at the mean and standard deviation of our data\n",
    "###For the Pitstop times:"
   ]
  },
  {
   "cell_type": "code",
   "execution_count": 5,
   "metadata": {
    "colab": {
     "base_uri": "https://localhost:8080/"
    },
    "id": "qhK3izKkRgfp",
    "outputId": "f5e53198-3352-4642-c333-723c0ad7aa8f"
   },
   "outputs": [
    {
     "name": "stdout",
     "output_type": "stream",
     "text": [
      "The true Mean and Standard deviation of the Pitstop times of the drivers are 24.7 seconds and 4.41 seconds respectively\n"
     ]
    }
   ],
   "source": [
    "truemean=df1['Avg Pit Time'].mean()\n",
    "truestd=df1['Avg Pit Time'].std()\n",
    "print(\"The true Mean and Standard deviation of the Pitstop times of the drivers are {} seconds and {} seconds respectively\".format(round(truemean/1000,2),round(truestd/1000,2)))"
   ]
  },
  {
   "cell_type": "markdown",
   "metadata": {
    "id": "5BUmhZw0y00g"
   },
   "source": [
    "##The histogram plot that can approximate the true distribution of the Pitstop time data is:"
   ]
  },
  {
   "cell_type": "code",
   "execution_count": 6,
   "metadata": {
    "colab": {
     "base_uri": "https://localhost:8080/",
     "height": 264
    },
    "id": "iGYonMemRgfq",
    "outputId": "847e571f-7208-47db-abd3-576b270d7aa4"
   },
   "outputs": [
    {
     "data": {
      "image/png": "[encoded data removed]",
      "text/plain": [
       "<Figure size 432x288 with 1 Axes>"
      ]
     },
     "metadata": {
      "needs_background": "light"
     },
     "output_type": "display_data"
    }
   ],
   "source": [
    "df1['Avg Pit Time'].plot.hist(bins=250)\n",
    "plt.xlim(18000,40000);"
   ]
  },
  {
   "cell_type": "markdown",
   "metadata": {
    "id": "idBj5UdPzUDe"
   },
   "source": [
    "###For the Lap times:"
   ]
  },
  {
   "cell_type": "code",
   "execution_count": 7,
   "metadata": {
    "colab": {
     "base_uri": "https://localhost:8080/"
    },
    "id": "AvbjQ9acyB8I",
    "outputId": "ec94116a-3a00-4a32-d86e-2f0b6d312f0c"
   },
   "outputs": [
    {
     "name": "stdout",
     "output_type": "stream",
     "text": [
      "The true Mean and Standard deviation of the Lap times of the drivers are 99494.19 seconds and 19008.19 seconds respectively\n"
     ]
    }
   ],
   "source": [
    "mean_lap=df1['avg laptime'].mean()\n",
    "std_lap=df1['avg laptime'].std()\n",
    "print(\"The true Mean and Standard deviation of the Lap times of the drivers are {} seconds and {} seconds respectively\".format(round(mean_lap,2),round(std_lap,2)))"
   ]
  },
  {
   "cell_type": "markdown",
   "metadata": {
    "id": "Wh3UwCdgzKwA"
   },
   "source": [
    "##The histogram plot that can approximate the true distribution of the Lap time data is:"
   ]
  },
  {
   "cell_type": "code",
   "execution_count": 8,
   "metadata": {
    "colab": {
     "base_uri": "https://localhost:8080/",
     "height": 268
    },
    "id": "BWBvQf9RRgfq",
    "outputId": "e5381f32-e854-4cfa-ca5c-9346e8a37f1d"
   },
   "outputs": [
    {
     "data": {
      "image/png": "[encoded data removed]",
      "text/plain": [
       "<Figure size 432x288 with 1 Axes>"
      ]
     },
     "metadata": {
      "needs_background": "light"
     },
     "output_type": "display_data"
    }
   ],
   "source": [
    "plt.hist(df1['avg laptime'],bins=70);\n",
    "plt.xlim(60000,140000);"
   ]
  },
  {
   "cell_type": "markdown",
   "metadata": {
    "id": "WcLx63XEzj9M"
   },
   "source": [
    "##The Scatter plot of the two random variables can be obtained as follows:"
   ]
  },
  {
   "cell_type": "code",
   "execution_count": 9,
   "metadata": {
    "colab": {
     "base_uri": "https://localhost:8080/",
     "height": 264
    },
    "id": "UWBmQK0ORgfr",
    "outputId": "98e94ce0-0b00-4cf3-d52e-c293d099a6bd",
    "scrolled": true
   },
   "outputs": [
    {
     "data": {
      "image/png": "[encoded data removed]",
      "text/plain": [
       "<Figure size 432x288 with 1 Axes>"
      ]
     },
     "metadata": {
      "needs_background": "light"
     },
     "output_type": "display_data"
    }
   ],
   "source": [
    "plt.scatter(y = df1['Avg Pit Time'],x = df1['avg laptime'],alpha=0.5);"
   ]
  },
  {
   "cell_type": "markdown",
   "metadata": {
    "id": "Z32R6sMrz2S4"
   },
   "source": [
    "##Let's look at the Joint distribution of the lap times and the pitstop time data using the ```jointplot``` function from ```seaborn```"
   ]
  },
  {
   "cell_type": "code",
   "execution_count": 10,
   "metadata": {
    "colab": {
     "base_uri": "https://localhost:8080/",
     "height": 441
    },
    "id": "4EKgfUrRRgfr",
    "outputId": "1569eb9f-71af-4bb8-f3dc-c34e9fd0d7cf"
   },
   "outputs": [
    {
     "data": {
      "image/png": "[encoded data removed]",
      "text/plain": [
       "<Figure size 432x432 with 3 Axes>"
      ]
     },
     "metadata": {
      "needs_background": "light"
     },
     "output_type": "display_data"
    }
   ],
   "source": [
    "g = sns.jointplot(data=df1, x=\"Avg Pit Time\", y=\"avg laptime\", kind=\"hist\",xlim=(15000,45000), ylim=(50000,150000));"
   ]
  },
  {
   "cell_type": "code",
   "execution_count": 11,
   "metadata": {
    "id": "muaQrCzXGmDJ"
   },
   "outputs": [],
   "source": [
    "data=pd.read_csv('filtered merged.csv')\n",
    "data=data.dropna()"
   ]
  },
  {
   "cell_type": "markdown",
   "metadata": {
    "id": "p-79JEri1p6t"
   },
   "source": [
    "###Before generating the sampling distribution of the sample means and variances for our data, let us recall the true parameters.\n",
    "\n",
    "Parameter | Pitstop Times  | Lap times\n",
    "----------|-------------------|------------------\n",
    "Mean      |24.7 seconds  | 99494 seconds\n",
    "Variance |4.41 seconds      | 19008 seconds\n",
    "\n"
   ]
  },
  {
   "cell_type": "markdown",
   "metadata": {
    "id": "Nbr-KuEJ0u5h"
   },
   "source": [
    "##Generating the Sampling distribution of the sample means and variances for the data"
   ]
  },
  {
   "cell_type": "markdown",
   "metadata": {
    "id": "oQ2-yvJ108qb"
   },
   "source": [
    "###Generating the samples for Laptimes:"
   ]
  },
  {
   "cell_type": "code",
   "execution_count": 12,
   "metadata": {
    "id": "jyHItRRdGmDL"
   },
   "outputs": [],
   "source": [
    "means=[]\n",
    "variances=[]\n",
    "stds=[]\n",
    "for i in range(1000):\n",
    "    sample=data['avg laptime'].sample(100,replace=True)\n",
    "    means.append(sample.mean())\n",
    "    variances.append(sample.var())\n",
    "    stds.append(sample.std())\n",
    "    "
   ]
  },
  {
   "cell_type": "markdown",
   "metadata": {
    "id": "XsRKezeB1BMP"
   },
   "source": [
    "##Plot of the sampling distribution for laptimes"
   ]
  },
  {
   "cell_type": "markdown",
   "metadata": {
    "id": "VoihkeyN1VFI"
   },
   "source": [
    "###Mean:"
   ]
  },
  {
   "cell_type": "code",
   "execution_count": 13,
   "metadata": {
    "colab": {
     "base_uri": "https://localhost:8080/",
     "height": 264
    },
    "id": "NPbkT37GGmDL",
    "outputId": "dde41648-6530-46ec-c7f5-1fa522bf1231"
   },
   "outputs": [
    {
     "data": {
      "image/png": "[encoded data removed]",
      "text/plain": [
       "<Figure size 432x288 with 1 Axes>"
      ]
     },
     "metadata": {
      "needs_background": "light"
     },
     "output_type": "display_data"
    }
   ],
   "source": [
    "plt.hist(means,bins=50)\n",
    "plt.show()"
   ]
  },
  {
   "cell_type": "markdown",
   "metadata": {
    "id": "ZmdaDfAI1Zjt"
   },
   "source": [
    "###Variance:"
   ]
  },
  {
   "cell_type": "code",
   "execution_count": 14,
   "metadata": {
    "colab": {
     "base_uri": "https://localhost:8080/",
     "height": 277
    },
    "id": "WhFkP8mMGmDL",
    "outputId": "dee28f3f-3212-4f19-8b7d-05886be0800c"
   },
   "outputs": [
    {
     "data": {
      "image/png": "[encoded data removed]",
      "text/plain": [
       "<Figure size 432x288 with 1 Axes>"
      ]
     },
     "metadata": {
      "needs_background": "light"
     },
     "output_type": "display_data"
    }
   ],
   "source": [
    "plt.hist(variances,bins=70)\n",
    "plt.show()"
   ]
  },
  {
   "cell_type": "markdown",
   "metadata": {
    "id": "EajJyUh23-Qj"
   },
   "source": [
    "###Similarly,generating the samples for Pitstop times:"
   ]
  },
  {
   "cell_type": "code",
   "execution_count": 15,
   "metadata": {
    "id": "pbciZUq9GmDM"
   },
   "outputs": [],
   "source": [
    "means_=[]\n",
    "variances_=[]\n",
    "stds_=[]\n",
    "for i in range(1000):\n",
    "    sample=data['Avg Pit Time'].sample(100,replace=True)\n",
    "    means_.append(sample.mean())\n",
    "    variances_.append(sample.var())\n",
    "    stds_.append(sample.std())\n",
    "    "
   ]
  },
  {
   "cell_type": "markdown",
   "metadata": {
    "id": "oQ8QTKh64K3s"
   },
   "source": [
    "##Plot of the sampling distribution for Pitstop times"
   ]
  },
  {
   "cell_type": "markdown",
   "metadata": {
    "id": "y6Sm3Xwe4NOS"
   },
   "source": [
    "###Mean:"
   ]
  },
  {
   "cell_type": "code",
   "execution_count": 16,
   "metadata": {
    "colab": {
     "base_uri": "https://localhost:8080/",
     "height": 264
    },
    "id": "U18chzV7GmDM",
    "outputId": "6ed1df43-33f4-4c34-f562-7d49adb79273"
   },
   "outputs": [
    {
     "data": {
      "image/png": "[encoded data removed]",
      "text/plain": [
       "<Figure size 432x288 with 1 Axes>"
      ]
     },
     "metadata": {
      "needs_background": "light"
     },
     "output_type": "display_data"
    }
   ],
   "source": [
    "plt.hist(means_,bins=100)\n",
    "plt.show()"
   ]
  },
  {
   "cell_type": "markdown",
   "metadata": {
    "id": "1OJ-3uDt4Z0e"
   },
   "source": [
    "###Variance:"
   ]
  },
  {
   "cell_type": "code",
   "execution_count": 17,
   "metadata": {
    "colab": {
     "base_uri": "https://localhost:8080/",
     "height": 277
    },
    "id": "AGaP6XKzGmDN",
    "outputId": "d313235c-4e2b-49b0-e031-e26256502064"
   },
   "outputs": [
    {
     "data": {
      "image/png": "[encoded data removed]",
      "text/plain": [
       "<Figure size 432x288 with 1 Axes>"
      ]
     },
     "metadata": {
      "needs_background": "light"
     },
     "output_type": "display_data"
    }
   ],
   "source": [
    "plt.hist(variances_,bins=50)\n",
    "plt.show()"
   ]
  },
  {
   "cell_type": "markdown",
   "metadata": {
    "id": "bt4Gz02B4yVz"
   },
   "source": [
    "###Now that we have plotted the sampling distribution for a specific number of samples, we can advance it further by exploring the sampling distributions when the sample sizes and number of samples can be varied"
   ]
  },
  {
   "cell_type": "code",
   "execution_count": 18,
   "metadata": {
    "id": "DFbj_GEXGmDN"
   },
   "outputs": [],
   "source": [
    "def f(Input,value,sample_size,bins):\n",
    "    mean=[]\n",
    "    variance=[]\n",
    "    std=[]\n",
    "    if Input=='Laptime':\n",
    "        x='avg laptime'\n",
    "    else :\n",
    "        x='Avg Pit Time'\n",
    "    for i in range(1000):\n",
    "        sample=data[x].sample(sample_size,replace=True)\n",
    "        mean.append(sample.mean())\n",
    "        variance.append(sample.var())\n",
    "        std.append(sample.std())\n",
    "    plt.hist(eval(value),bins=bins)\n",
    "    "
   ]
  },
  {
   "cell_type": "code",
   "execution_count": 19,
   "metadata": {
    "colab": {
     "base_uri": "https://localhost:8080/",
     "height": 393,
     "referenced_widgets": [
      "bb385183fc774b399d5f081fd7914f6b",
      "949be82891784787b4e876a80a5a50c8",
      "5f8dbcd68bad4d7e86700738b64c5ab7",
      "262e320c5c594cc192fe6d66159df72f",
      "730a7b0c735149d7bebe43bcff8b0ee9",
      "9d6c5d92a7a948fbb86bd5f1f3987d09",
      "42dc5b3fd5674766aa51ac581b46094a",
      "8ea62b29a80545309988f6003ce6f66c",
      "f2456e7f18d44439a80077ee908469ae",
      "c35ac16330af47b88a0011b0c6a1cde3",
      "145b87bda6634ce6b3135e12efd7b374",
      "59e50e37160a42278b02999475b7b0ac",
      "0df977c5b0b843549d93bbdd98e96871",
      "0a1d506fc99f485f9b269bb4a3a1ada1",
      "20dbe2640608473099641c012037b1ff",
      "36863ecf4522476899ad43bca0af128b"
     ]
    },
    "id": "4QsGxVlnGmDN",
    "outputId": "3e1fffc5-ed24-4a83-adf9-f62e11962589",
    "scrolled": true
   },
   "outputs": [
    {
     "data": {
      "application/vnd.jupyter.widget-view+json": {
       "model_id": "b7595b451833493b98d71bcb80b2c3e1",
       "version_major": 2,
       "version_minor": 0
      },
      "text/plain": [
       "interactive(children=(Dropdown(description='Input', options=('Laptime', 'Pit Time'), value='Laptime'), Dropdow…"
      ]
     },
     "metadata": {},
     "output_type": "display_data"
    }
   ],
   "source": [
    "interact(f,Input=['Laptime',\"Pit Time\"],value=['mean','variance','std'],sample_size=(1,1000),bins=(1,500));"
   ]
  },
  {
   "cell_type": "markdown",
   "metadata": {
    "id": "9bKqVKAQGmDN"
   },
   "source": [
    "##<b>Point and Interval Estimates of Laptime and Pit Time Parameters</b>"
   ]
  },
  {
   "cell_type": "code",
   "execution_count": 20,
   "metadata": {
    "colab": {
     "base_uri": "https://localhost:8080/"
    },
    "id": "8GnoBW-kGmDN",
    "outputId": "9faae389-fff5-4e51-da08-c5a4242a6f18"
   },
   "outputs": [
    {
     "name": "stdout",
     "output_type": "stream",
     "text": [
      "Estimate of MEAN LAPTIME : 99567.41341513293\n",
      "True MEAN LAPTIME : 99494.19319722848 \n",
      "\n",
      "Estimate of VARIANCE LAPTIME DATA : 3786731.8080454427\n",
      "True VARIANCE of LAPTIME DATA : 361311206.95998496\n"
     ]
    }
   ],
   "source": [
    "#POINT ESTMATION OF MEAN AND VARIANCE OF LAPTIME\n",
    "s_means=[]\n",
    "S=[]\n",
    "\n",
    "for i in range(1000):\n",
    "    sample=np.array(data['avg laptime'].sample(100,replace=True))\n",
    "    sample_mean=sample.mean()\n",
    "    s_means.append(sample_mean)\n",
    "    sample_S=np.sum(pow(sample-sample_mean,2))/(100-1)\n",
    "    S.append(sample_S)\n",
    "print('Estimate of MEAN LAPTIME :',np.mean(s_means)) \n",
    "print('True MEAN LAPTIME :',data['avg laptime'].mean(),'\\n') \n",
    "print('Estimate of VARIANCE LAPTIME DATA :',np.var(s_means))  \n",
    "print('True VARIANCE of LAPTIME DATA :',data['avg laptime'].var()) "
   ]
  },
  {
   "cell_type": "code",
   "execution_count": 21,
   "metadata": {
    "colab": {
     "base_uri": "https://localhost:8080/"
    },
    "id": "cnsbVSvMGmDO",
    "outputId": "076ee06a-aa4d-4d39-dba4-a79ca6ee8534"
   },
   "outputs": [
    {
     "name": "stdout",
     "output_type": "stream",
     "text": [
      "Estimate of MEAN PIT TIME : 24702.946401999998\n",
      "True MEAN PIT TIME : 24696.035884700286 \n",
      "\n",
      "Estimate of VARIANCE PIT TIME DATA : 197492.16622319352\n",
      "True VARIANCE of PIT TIME DATA : 19460113.77522371\n"
     ]
    }
   ],
   "source": [
    "#POINT ESTMATION OF MEAN AND VARIANCE OF PIT TIME\n",
    "s_means=[]\n",
    "S=[]\n",
    "\n",
    "for i in range(1000):\n",
    "    sample=np.array(data['Avg Pit Time'].sample(100,replace=True))\n",
    "    sample_mean=sample.mean()\n",
    "    s_means.append(sample_mean)\n",
    "    sample_S=np.sum(pow(sample-sample_mean,2))/(100-1)\n",
    "    S.append(sample_S)\n",
    "print('Estimate of MEAN PIT TIME :',np.mean(s_means)) \n",
    "print('True MEAN PIT TIME :',data['Avg Pit Time'].mean(),'\\n') \n",
    "print('Estimate of VARIANCE PIT TIME DATA :',np.var(s_means))  \n",
    "print('True VARIANCE of PIT TIME DATA :',data['Avg Pit Time'].var())"
   ]
  },
  {
   "cell_type": "code",
   "execution_count": 22,
   "metadata": {
    "id": "uOcA0w4_GmDO"
   },
   "outputs": [],
   "source": [
    "#CONFIDENCE INTERVAL ESTIMATION OF MEAN AND VARIANCE \n",
    "\n",
    "def comp_interval(Input,value,sample_size,Conf_level):\n",
    "    if Input=='Laptime':\n",
    "        x='avg laptime'\n",
    "    else :\n",
    "        x='Avg Pit Time'\n",
    "    sample=np.array(data[x].sample(sample_size,replace=True))\n",
    "    if value=='mean':        \n",
    "        mu=data[x].mean()  \n",
    "        x_bar=np.mean(sample)\n",
    "        S=np.std(sample)\n",
    "        t_CI=t(sample_size-1).ppf((1-(Conf_level/100))/2)\n",
    "        cmin,cmax=x_bar+(t_CI*(S/sqrt(sample_size))),x_bar-(t_CI*(S/sqrt(sample_size)))    \n",
    "        return print('True mean of',Input,' :',mu,'\\n',Conf_level,'% confidence interval : ',[cmin,cmax])\n",
    "    else:\n",
    "        variance=data[x].var() \n",
    "        S=np.var(sample)\n",
    "        alpha=1-(Conf_level/100)\n",
    "        cmax,cmin=sample_size*(S/chi2(sample_size-1).ppf(alpha/2)),(sample_size*(S/chi2(sample_size-1).ppf(1-(alpha/2))))\n",
    "        return print('True variance of',Input,' :',variance,'\\n',Conf_level,'% confidence interval : ',[cmin,cmax])\n",
    "        \n"
   ]
  },
  {
   "cell_type": "code",
   "execution_count": 23,
   "metadata": {
    "colab": {
     "base_uri": "https://localhost:8080/",
     "height": 180,
     "referenced_widgets": [
      "4963aed749b44f838956a37e80476db9",
      "5a56d7d536b64736b36515d45b32a3b3",
      "789c951311c742b982806ceb6fa036d8",
      "ad765be1a21a46f1be7334efbcef78a1",
      "0d6adcb341b845669ff4ab266015eb32",
      "45fd81077d6d47b4a321fc056820ddfa",
      "2525804b81ec41418e63230a58cce05b",
      "a03379c197a24fd0a61e3a6065696734",
      "69d9f6741be34d2b9cf7c9d62735f7ff",
      "83ea1778520142f99712dcef2d2a4faf",
      "93b740064e25470aa2e0fb0489a849c5",
      "886b6bc479ce426eb922230b72217506",
      "9106d5bd35194124b534e5294dbe5e06",
      "a18cd07083fc4e77b7792296354aa1bf",
      "c982754fa90c4e9b9c537854681a0a28",
      "faea93ff48f440de8254773b2fb3cf06"
     ]
    },
    "id": "-9CY00AXGmDO",
    "outputId": "d18ff5ad-ae59-41b5-bbfb-1f335248f61e"
   },
   "outputs": [
    {
     "data": {
      "application/vnd.jupyter.widget-view+json": {
       "model_id": "b5239c9e570c46d699c697b25d332001",
       "version_major": 2,
       "version_minor": 0
      },
      "text/plain": [
       "interactive(children=(Dropdown(description='Input', options=('Laptime', 'Pit Time'), value='Laptime'), Dropdow…"
      ]
     },
     "metadata": {},
     "output_type": "display_data"
    }
   ],
   "source": [
    "interact(comp_interval,Input=['Laptime',\"Pit Time\"],value=['mean','variance'],sample_size=(1,1000),Conf_level=(50,99.9));"
   ]
  },
  {
   "cell_type": "code",
   "execution_count": 24,
   "metadata": {
    "colab": {
     "base_uri": "https://localhost:8080/",
     "height": 137
    },
    "id": "j-QR_YsggMUX",
    "outputId": "59faf900-82bc-4dec-b8bc-4b9f4ed2b1ee"
   },
   "outputs": [
    {
     "data": {
      "text/html": [
       "<div>\n",
       "<style scoped>\n",
       "    .dataframe tbody tr th:only-of-type {\n",
       "        vertical-align: middle;\n",
       "    }\n",
       "\n",
       "    .dataframe tbody tr th {\n",
       "        vertical-align: top;\n",
       "    }\n",
       "\n",
       "    .dataframe thead th {\n",
       "        text-align: right;\n",
       "    }\n",
       "</style>\n",
       "<table border=\"1\" class=\"dataframe\">\n",
       "  <thead>\n",
       "    <tr style=\"text-align: right;\">\n",
       "      <th></th>\n",
       "      <th>position</th>\n",
       "      <th>avg laptime</th>\n",
       "      <th>Avg Pit Time</th>\n",
       "    </tr>\n",
       "  </thead>\n",
       "  <tbody>\n",
       "    <tr>\n",
       "      <th>position</th>\n",
       "      <td>1.000000</td>\n",
       "      <td>0.094469</td>\n",
       "      <td>0.198852</td>\n",
       "    </tr>\n",
       "    <tr>\n",
       "      <th>avg laptime</th>\n",
       "      <td>0.094469</td>\n",
       "      <td>1.000000</td>\n",
       "      <td>0.237987</td>\n",
       "    </tr>\n",
       "    <tr>\n",
       "      <th>Avg Pit Time</th>\n",
       "      <td>0.198852</td>\n",
       "      <td>0.237987</td>\n",
       "      <td>1.000000</td>\n",
       "    </tr>\n",
       "  </tbody>\n",
       "</table>\n",
       "</div>"
      ],
      "text/plain": [
       "              position  avg laptime  Avg Pit Time\n",
       "position      1.000000     0.094469      0.198852\n",
       "avg laptime   0.094469     1.000000      0.237987\n",
       "Avg Pit Time  0.198852     0.237987      1.000000"
      ]
     },
     "execution_count": 24,
     "metadata": {},
     "output_type": "execute_result"
    }
   ],
   "source": [
    "datanew = df1.drop(columns=['Unnamed: 0','Race ID','Driver ID'])\n",
    "race = df1.groupby(by = 'Race ID')\n",
    "datanew.corr(method= 'pearson')"
   ]
  },
  {
   "cell_type": "code",
   "execution_count": 25,
   "metadata": {
    "colab": {
     "base_uri": "https://localhost:8080/",
     "height": 137
    },
    "id": "7ZhL4qIqunbU",
    "outputId": "748a2fd6-ecf8-4a32-bddf-1dd8653138b5"
   },
   "outputs": [
    {
     "data": {
      "text/html": [
       "<div>\n",
       "<style scoped>\n",
       "    .dataframe tbody tr th:only-of-type {\n",
       "        vertical-align: middle;\n",
       "    }\n",
       "\n",
       "    .dataframe tbody tr th {\n",
       "        vertical-align: top;\n",
       "    }\n",
       "\n",
       "    .dataframe thead th {\n",
       "        text-align: right;\n",
       "    }\n",
       "</style>\n",
       "<table border=\"1\" class=\"dataframe\">\n",
       "  <thead>\n",
       "    <tr style=\"text-align: right;\">\n",
       "      <th></th>\n",
       "      <th>position</th>\n",
       "      <th>avg laptime</th>\n",
       "      <th>Avg Pit Time</th>\n",
       "    </tr>\n",
       "  </thead>\n",
       "  <tbody>\n",
       "    <tr>\n",
       "      <th>position</th>\n",
       "      <td>1.000000</td>\n",
       "      <td>0.718892</td>\n",
       "      <td>0.496545</td>\n",
       "    </tr>\n",
       "    <tr>\n",
       "      <th>avg laptime</th>\n",
       "      <td>0.718892</td>\n",
       "      <td>1.000000</td>\n",
       "      <td>0.174740</td>\n",
       "    </tr>\n",
       "    <tr>\n",
       "      <th>Avg Pit Time</th>\n",
       "      <td>0.496545</td>\n",
       "      <td>0.174740</td>\n",
       "      <td>1.000000</td>\n",
       "    </tr>\n",
       "  </tbody>\n",
       "</table>\n",
       "</div>"
      ],
      "text/plain": [
       "              position  avg laptime  Avg Pit Time\n",
       "position      1.000000     0.718892      0.496545\n",
       "avg laptime   0.718892     1.000000      0.174740\n",
       "Avg Pit Time  0.496545     0.174740      1.000000"
      ]
     },
     "execution_count": 25,
     "metadata": {},
     "output_type": "execute_result"
    }
   ],
   "source": [
    "ra841 = race.get_group(841).drop(columns=['Unnamed: 0','Race ID','Driver ID'])\n",
    "ra841.corr(method= 'pearson')"
   ]
  },
  {
   "cell_type": "code",
   "execution_count": 28,
   "metadata": {
    "colab": {
     "base_uri": "https://localhost:8080/",
     "height": 441
    },
    "id": "8HM6c_OvxIfI",
    "outputId": "27f4f06f-859e-41cc-ab96-43fc05651925"
   },
   "outputs": [
    {
     "data": {
      "image/png": "[encoded data removed]",
      "text/plain": [
       "<Figure size 432x432 with 3 Axes>"
      ]
     },
     "metadata": {
      "needs_background": "light"
     },
     "output_type": "display_data"
    }
   ],
   "source": [
    "h = sns.jointplot(data=ra841, x=\"Avg Pit Time\", y=\"position\", kind=\"scatter\");"
   ]
  },
  {
   "cell_type": "code",
   "execution_count": 36,
   "metadata": {},
   "outputs": [],
   "source": [
    "# we will try to perform a linear regression on this data"
   ]
  },
  {
   "cell_type": "code",
   "execution_count": 31,
   "metadata": {},
   "outputs": [],
   "source": [
    "x=ra841['avg laptime']\n",
    "y=ra841['Avg Pit Time']\n",
    "coeff=np.polyfit(x,y,1)"
   ]
  },
  {
   "cell_type": "code",
   "execution_count": 32,
   "metadata": {},
   "outputs": [
    {
     "data": {
      "text/plain": [
       "<matplotlib.collections.PathCollection at 0x1c5c9c51670>"
      ]
     },
     "execution_count": 32,
     "metadata": {},
     "output_type": "execute_result"
    },
    {
     "data": {
      "image/png": "[encoded data removed]",
      "text/plain": [
       "<Figure size 432x288 with 1 Axes>"
      ]
     },
     "metadata": {
      "needs_background": "light"
     },
     "output_type": "display_data"
    }
   ],
   "source": [
    "y_=coeff[0]*x+coeff[1]\n",
    "plt.plot(x,y_,'r')\n",
    "plt.scatter(x,y)"
   ]
  },
  {
   "cell_type": "code",
   "execution_count": 33,
   "metadata": {},
   "outputs": [],
   "source": [
    "#Plotting linear fit for all the data"
   ]
  },
  {
   "cell_type": "code",
   "execution_count": 34,
   "metadata": {},
   "outputs": [
    {
     "data": {
      "text/plain": [
       "<matplotlib.collections.PathCollection at 0x1c5ca17ae20>"
      ]
     },
     "execution_count": 34,
     "metadata": {},
     "output_type": "execute_result"
    },
    {
     "data": {
      "image/png": "[encoded data removed]",
      "text/plain": [
       "<Figure size 432x288 with 1 Axes>"
      ]
     },
     "metadata": {
      "needs_background": "light"
     },
     "output_type": "display_data"
    }
   ],
   "source": [
    "x=data['avg laptime']\n",
    "y=data['Avg Pit Time']\n",
    "coeff=np.polyfit(x,y,1)\n",
    "y_=coeff[0]*x+coeff[1]\n",
    "plt.plot(x,y_,'r')\n",
    "plt.scatter(x,y)"
   ]
  },
  {
   "cell_type": "code",
   "execution_count": 35,
   "metadata": {},
   "outputs": [],
   "source": [
    "#Clearly the linear regression fit suggests that the two random variables are not related moreover we have seen that there \n",
    "#correlation is close to 0. This suggests that the random variables are independent which will be proved in the hypothesis testing"
   ]
  },
  {
   "cell_type": "code",
   "execution_count": null,
   "metadata": {},
   "outputs": [],
   "source": []
  }
 ],
 "metadata": {
  "colab": {
   "collapsed_sections": [],
   "name": "AE Project compiled.ipynb",
   "provenance": []
  },
  "kernelspec": {
   "display_name": "Python 3",
   "language": "python",
   "name": "python3"
  },
  "language_info": {
   "codemirror_mode": {
    "name": "ipython",
    "version": 3
   },
   "file_extension": ".py",
   "mimetype": "text/x-python",
   "name": "python",
   "nbconvert_exporter": "python",
   "pygments_lexer": "ipython3",
   "version": "3.8.5"
  },
  "widgets": {
   "application/vnd.jupyter.widget-state+json": {
    "0a1d506fc99f485f9b269bb4a3a1ada1": {
     "model_module": "@jupyter-widgets/controls",
     "model_name": "SliderStyleModel",
     "state": {
      "_model_module": "@jupyter-widgets/controls",
      "_model_module_version": "1.5.0",
      "_model_name": "SliderStyleModel",
      "_view_count": null,
      "_view_module": "@jupyter-widgets/base",
      "_view_module_version": "1.2.0",
      "_view_name": "StyleView",
      "description_width": "",
      "handle_color": null
     }
    },
    "0d6adcb341b845669ff4ab266015eb32": {
     "model_module": "@jupyter-widgets/controls",
     "model_name": "IntSliderModel",
     "state": {
      "_dom_classes": [],
      "_model_module": "@jupyter-widgets/controls",
      "_model_module_version": "1.5.0",
      "_model_name": "IntSliderModel",
      "_view_count": null,
      "_view_module": "@jupyter-widgets/controls",
      "_view_module_version": "1.5.0",
      "_view_name": "IntSliderView",
      "continuous_update": true,
      "description": "sample_size",
      "description_tooltip": null,
      "disabled": false,
      "layout": "IPY_MODEL_9106d5bd35194124b534e5294dbe5e06",
      "max": 1000,
      "min": 1,
      "orientation": "horizontal",
      "readout": true,
      "readout_format": "d",
      "step": 1,
      "style": "IPY_MODEL_886b6bc479ce426eb922230b72217506",
      "value": 500
     }
    },
    "0df977c5b0b843549d93bbdd98e96871": {
     "model_module": "@jupyter-widgets/base",
     "model_name": "LayoutModel",
     "state": {
      "_model_module": "@jupyter-widgets/base",
      "_model_module_version": "1.2.0",
      "_model_name": "LayoutModel",
      "_view_count": null,
      "_view_module": "@jupyter-widgets/base",
      "_view_module_version": "1.2.0",
      "_view_name": "LayoutView",
      "align_content": null,
      "align_items": null,
      "align_self": null,
      "border": null,
      "bottom": null,
      "display": null,
      "flex": null,
      "flex_flow": null,
      "grid_area": null,
      "grid_auto_columns": null,
      "grid_auto_flow": null,
      "grid_auto_rows": null,
      "grid_column": null,
      "grid_gap": null,
      "grid_row": null,
      "grid_template_areas": null,
      "grid_template_columns": null,
      "grid_template_rows": null,
      "height": null,
      "justify_content": null,
      "justify_items": null,
      "left": null,
      "margin": null,
      "max_height": null,
      "max_width": null,
      "min_height": null,
      "min_width": null,
      "object_fit": null,
      "object_position": null,
      "order": null,
      "overflow": null,
      "overflow_x": null,
      "overflow_y": null,
      "padding": null,
      "right": null,
      "top": null,
      "visibility": null,
      "width": null
     }
    },
    "145b87bda6634ce6b3135e12efd7b374": {
     "model_module": "@jupyter-widgets/base",
     "model_name": "LayoutModel",
     "state": {
      "_model_module": "@jupyter-widgets/base",
      "_model_module_version": "1.2.0",
      "_model_name": "LayoutModel",
      "_view_count": null,
      "_view_module": "@jupyter-widgets/base",
      "_view_module_version": "1.2.0",
      "_view_name": "LayoutView",
      "align_content": null,
      "align_items": null,
      "align_self": null,
      "border": null,
      "bottom": null,
      "display": null,
      "flex": null,
      "flex_flow": null,
      "grid_area": null,
      "grid_auto_columns": null,
      "grid_auto_flow": null,
      "grid_auto_rows": null,
      "grid_column": null,
      "grid_gap": null,
      "grid_row": null,
      "grid_template_areas": null,
      "grid_template_columns": null,
      "grid_template_rows": null,
      "height": null,
      "justify_content": null,
      "justify_items": null,
      "left": null,
      "margin": null,
      "max_height": null,
      "max_width": null,
      "min_height": null,
      "min_width": null,
      "object_fit": null,
      "object_position": null,
      "order": null,
      "overflow": null,
      "overflow_x": null,
      "overflow_y": null,
      "padding": null,
      "right": null,
      "top": null,
      "visibility": null,
      "width": null
     }
    },
    "20dbe2640608473099641c012037b1ff": {
     "model_module": "@jupyter-widgets/base",
     "model_name": "LayoutModel",
     "state": {
      "_model_module": "@jupyter-widgets/base",
      "_model_module_version": "1.2.0",
      "_model_name": "LayoutModel",
      "_view_count": null,
      "_view_module": "@jupyter-widgets/base",
      "_view_module_version": "1.2.0",
      "_view_name": "LayoutView",
      "align_content": null,
      "align_items": null,
      "align_self": null,
      "border": null,
      "bottom": null,
      "display": null,
      "flex": null,
      "flex_flow": null,
      "grid_area": null,
      "grid_auto_columns": null,
      "grid_auto_flow": null,
      "grid_auto_rows": null,
      "grid_column": null,
      "grid_gap": null,
      "grid_row": null,
      "grid_template_areas": null,
      "grid_template_columns": null,
      "grid_template_rows": null,
      "height": null,
      "justify_content": null,
      "justify_items": null,
      "left": null,
      "margin": null,
      "max_height": null,
      "max_width": null,
      "min_height": null,
      "min_width": null,
      "object_fit": null,
      "object_position": null,
      "order": null,
      "overflow": null,
      "overflow_x": null,
      "overflow_y": null,
      "padding": null,
      "right": null,
      "top": null,
      "visibility": null,
      "width": null
     }
    },
    "2525804b81ec41418e63230a58cce05b": {
     "model_module": "@jupyter-widgets/output",
     "model_name": "OutputModel",
     "state": {
      "_dom_classes": [],
      "_model_module": "@jupyter-widgets/output",
      "_model_module_version": "1.0.0",
      "_model_name": "OutputModel",
      "_view_count": null,
      "_view_module": "@jupyter-widgets/output",
      "_view_module_version": "1.0.0",
      "_view_name": "OutputView",
      "layout": "IPY_MODEL_faea93ff48f440de8254773b2fb3cf06",
      "msg_id": "",
      "outputs": [
       {
        "metadata": {
         "tags": []
        },
        "output_type": "stream",
        "stream": "stdout",
        "text": "True mean of Laptime  : 99494.19319722841 \n 73.9 % confidence interval :  [98517.0201330317, 100328.81288057007]\n"
       }
      ]
     }
    },
    "262e320c5c594cc192fe6d66159df72f": {
     "model_module": "@jupyter-widgets/controls",
     "model_name": "DropdownModel",
     "state": {
      "_dom_classes": [],
      "_model_module": "@jupyter-widgets/controls",
      "_model_module_version": "1.5.0",
      "_model_name": "DropdownModel",
      "_options_labels": [
       "mean",
       "variance",
       "std"
      ],
      "_view_count": null,
      "_view_module": "@jupyter-widgets/controls",
      "_view_module_version": "1.5.0",
      "_view_name": "DropdownView",
      "description": "value",
      "description_tooltip": null,
      "disabled": false,
      "index": 0,
      "layout": "IPY_MODEL_145b87bda6634ce6b3135e12efd7b374",
      "style": "IPY_MODEL_c35ac16330af47b88a0011b0c6a1cde3"
     }
    },
    "36863ecf4522476899ad43bca0af128b": {
     "model_module": "@jupyter-widgets/base",
     "model_name": "LayoutModel",
     "state": {
      "_model_module": "@jupyter-widgets/base",
      "_model_module_version": "1.2.0",
      "_model_name": "LayoutModel",
      "_view_count": null,
      "_view_module": "@jupyter-widgets/base",
      "_view_module_version": "1.2.0",
      "_view_name": "LayoutView",
      "align_content": null,
      "align_items": null,
      "align_self": null,
      "border": null,
      "bottom": null,
      "display": null,
      "flex": null,
      "flex_flow": null,
      "grid_area": null,
      "grid_auto_columns": null,
      "grid_auto_flow": null,
      "grid_auto_rows": null,
      "grid_column": null,
      "grid_gap": null,
      "grid_row": null,
      "grid_template_areas": null,
      "grid_template_columns": null,
      "grid_template_rows": null,
      "height": null,
      "justify_content": null,
      "justify_items": null,
      "left": null,
      "margin": null,
      "max_height": null,
      "max_width": null,
      "min_height": null,
      "min_width": null,
      "object_fit": null,
      "object_position": null,
      "order": null,
      "overflow": null,
      "overflow_x": null,
      "overflow_y": null,
      "padding": null,
      "right": null,
      "top": null,
      "visibility": null,
      "width": null
     }
    },
    "42dc5b3fd5674766aa51ac581b46094a": {
     "model_module": "@jupyter-widgets/output",
     "model_name": "OutputModel",
     "state": {
      "_dom_classes": [],
      "_model_module": "@jupyter-widgets/output",
      "_model_module_version": "1.0.0",
      "_model_name": "OutputModel",
      "_view_count": null,
      "_view_module": "@jupyter-widgets/output",
      "_view_module_version": "1.0.0",
      "_view_name": "OutputView",
      "layout": "IPY_MODEL_36863ecf4522476899ad43bca0af128b",
      "msg_id": "",
      "outputs": [
       {
        "image/png": "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\n",
        "metadata": {
         "needs_background": "light",
         "tags": []
        },
        "output_type": "display_data",
        "text/plain": "<Figure size 432x288 with 1 Axes>"
       }
      ]
     }
    },
    "45fd81077d6d47b4a321fc056820ddfa": {
     "model_module": "@jupyter-widgets/controls",
     "model_name": "FloatSliderModel",
     "state": {
      "_dom_classes": [],
      "_model_module": "@jupyter-widgets/controls",
      "_model_module_version": "1.5.0",
      "_model_name": "FloatSliderModel",
      "_view_count": null,
      "_view_module": "@jupyter-widgets/controls",
      "_view_module_version": "1.5.0",
      "_view_name": "FloatSliderView",
      "continuous_update": true,
      "description": "Conf_level",
      "description_tooltip": null,
      "disabled": false,
      "layout": "IPY_MODEL_c982754fa90c4e9b9c537854681a0a28",
      "max": 99.9,
      "min": 50,
      "orientation": "horizontal",
      "readout": true,
      "readout_format": ".2f",
      "step": 0.1,
      "style": "IPY_MODEL_a18cd07083fc4e77b7792296354aa1bf",
      "value": 73.9
     }
    },
    "4963aed749b44f838956a37e80476db9": {
     "model_module": "@jupyter-widgets/controls",
     "model_name": "VBoxModel",
     "state": {
      "_dom_classes": [
       "widget-interact"
      ],
      "_model_module": "@jupyter-widgets/controls",
      "_model_module_version": "1.5.0",
      "_model_name": "VBoxModel",
      "_view_count": null,
      "_view_module": "@jupyter-widgets/controls",
      "_view_module_version": "1.5.0",
      "_view_name": "VBoxView",
      "box_style": "",
      "children": [
       "IPY_MODEL_789c951311c742b982806ceb6fa036d8",
       "IPY_MODEL_ad765be1a21a46f1be7334efbcef78a1",
       "IPY_MODEL_0d6adcb341b845669ff4ab266015eb32",
       "IPY_MODEL_45fd81077d6d47b4a321fc056820ddfa",
       "IPY_MODEL_2525804b81ec41418e63230a58cce05b"
      ],
      "layout": "IPY_MODEL_5a56d7d536b64736b36515d45b32a3b3"
     }
    },
    "59e50e37160a42278b02999475b7b0ac": {
     "model_module": "@jupyter-widgets/controls",
     "model_name": "SliderStyleModel",
     "state": {
      "_model_module": "@jupyter-widgets/controls",
      "_model_module_version": "1.5.0",
      "_model_name": "SliderStyleModel",
      "_view_count": null,
      "_view_module": "@jupyter-widgets/base",
      "_view_module_version": "1.2.0",
      "_view_name": "StyleView",
      "description_width": "",
      "handle_color": null
     }
    },
    "5a56d7d536b64736b36515d45b32a3b3": {
     "model_module": "@jupyter-widgets/base",
     "model_name": "LayoutModel",
     "state": {
      "_model_module": "@jupyter-widgets/base",
      "_model_module_version": "1.2.0",
      "_model_name": "LayoutModel",
      "_view_count": null,
      "_view_module": "@jupyter-widgets/base",
      "_view_module_version": "1.2.0",
      "_view_name": "LayoutView",
      "align_content": null,
      "align_items": null,
      "align_self": null,
      "border": null,
      "bottom": null,
      "display": null,
      "flex": null,
      "flex_flow": null,
      "grid_area": null,
      "grid_auto_columns": null,
      "grid_auto_flow": null,
      "grid_auto_rows": null,
      "grid_column": null,
      "grid_gap": null,
      "grid_row": null,
      "grid_template_areas": null,
      "grid_template_columns": null,
      "grid_template_rows": null,
      "height": null,
      "justify_content": null,
      "justify_items": null,
      "left": null,
      "margin": null,
      "max_height": null,
      "max_width": null,
      "min_height": null,
      "min_width": null,
      "object_fit": null,
      "object_position": null,
      "order": null,
      "overflow": null,
      "overflow_x": null,
      "overflow_y": null,
      "padding": null,
      "right": null,
      "top": null,
      "visibility": null,
      "width": null
     }
    },
    "5f8dbcd68bad4d7e86700738b64c5ab7": {
     "model_module": "@jupyter-widgets/controls",
     "model_name": "DropdownModel",
     "state": {
      "_dom_classes": [],
      "_model_module": "@jupyter-widgets/controls",
      "_model_module_version": "1.5.0",
      "_model_name": "DropdownModel",
      "_options_labels": [
       "Laptime",
       "Pit Time"
      ],
      "_view_count": null,
      "_view_module": "@jupyter-widgets/controls",
      "_view_module_version": "1.5.0",
      "_view_name": "DropdownView",
      "description": "Input",
      "description_tooltip": null,
      "disabled": false,
      "index": 0,
      "layout": "IPY_MODEL_f2456e7f18d44439a80077ee908469ae",
      "style": "IPY_MODEL_8ea62b29a80545309988f6003ce6f66c"
     }
    },
    "69d9f6741be34d2b9cf7c9d62735f7ff": {
     "model_module": "@jupyter-widgets/base",
     "model_name": "LayoutModel",
     "state": {
      "_model_module": "@jupyter-widgets/base",
      "_model_module_version": "1.2.0",
      "_model_name": "LayoutModel",
      "_view_count": null,
      "_view_module": "@jupyter-widgets/base",
      "_view_module_version": "1.2.0",
      "_view_name": "LayoutView",
      "align_content": null,
      "align_items": null,
      "align_self": null,
      "border": null,
      "bottom": null,
      "display": null,
      "flex": null,
      "flex_flow": null,
      "grid_area": null,
      "grid_auto_columns": null,
      "grid_auto_flow": null,
      "grid_auto_rows": null,
      "grid_column": null,
      "grid_gap": null,
      "grid_row": null,
      "grid_template_areas": null,
      "grid_template_columns": null,
      "grid_template_rows": null,
      "height": null,
      "justify_content": null,
      "justify_items": null,
      "left": null,
      "margin": null,
      "max_height": null,
      "max_width": null,
      "min_height": null,
      "min_width": null,
      "object_fit": null,
      "object_position": null,
      "order": null,
      "overflow": null,
      "overflow_x": null,
      "overflow_y": null,
      "padding": null,
      "right": null,
      "top": null,
      "visibility": null,
      "width": null
     }
    },
    "730a7b0c735149d7bebe43bcff8b0ee9": {
     "model_module": "@jupyter-widgets/controls",
     "model_name": "IntSliderModel",
     "state": {
      "_dom_classes": [],
      "_model_module": "@jupyter-widgets/controls",
      "_model_module_version": "1.5.0",
      "_model_name": "IntSliderModel",
      "_view_count": null,
      "_view_module": "@jupyter-widgets/controls",
      "_view_module_version": "1.5.0",
      "_view_name": "IntSliderView",
      "continuous_update": true,
      "description": "sample_size",
      "description_tooltip": null,
      "disabled": false,
      "layout": "IPY_MODEL_0df977c5b0b843549d93bbdd98e96871",
      "max": 1000,
      "min": 1,
      "orientation": "horizontal",
      "readout": true,
      "readout_format": "d",
      "step": 1,
      "style": "IPY_MODEL_59e50e37160a42278b02999475b7b0ac",
      "value": 500
     }
    },
    "789c951311c742b982806ceb6fa036d8": {
     "model_module": "@jupyter-widgets/controls",
     "model_name": "DropdownModel",
     "state": {
      "_dom_classes": [],
      "_model_module": "@jupyter-widgets/controls",
      "_model_module_version": "1.5.0",
      "_model_name": "DropdownModel",
      "_options_labels": [
       "Laptime",
       "Pit Time"
      ],
      "_view_count": null,
      "_view_module": "@jupyter-widgets/controls",
      "_view_module_version": "1.5.0",
      "_view_name": "DropdownView",
      "description": "Input",
      "description_tooltip": null,
      "disabled": false,
      "index": 0,
      "layout": "IPY_MODEL_69d9f6741be34d2b9cf7c9d62735f7ff",
      "style": "IPY_MODEL_a03379c197a24fd0a61e3a6065696734"
     }
    },
    "83ea1778520142f99712dcef2d2a4faf": {
     "model_module": "@jupyter-widgets/controls",
     "model_name": "DescriptionStyleModel",
     "state": {
      "_model_module": "@jupyter-widgets/controls",
      "_model_module_version": "1.5.0",
      "_model_name": "DescriptionStyleModel",
      "_view_count": null,
      "_view_module": "@jupyter-widgets/base",
      "_view_module_version": "1.2.0",
      "_view_name": "StyleView",
      "description_width": ""
     }
    },
    "886b6bc479ce426eb922230b72217506": {
     "model_module": "@jupyter-widgets/controls",
     "model_name": "SliderStyleModel",
     "state": {
      "_model_module": "@jupyter-widgets/controls",
      "_model_module_version": "1.5.0",
      "_model_name": "SliderStyleModel",
      "_view_count": null,
      "_view_module": "@jupyter-widgets/base",
      "_view_module_version": "1.2.0",
      "_view_name": "StyleView",
      "description_width": "",
      "handle_color": null
     }
    },
    "8ea62b29a80545309988f6003ce6f66c": {
     "model_module": "@jupyter-widgets/controls",
     "model_name": "DescriptionStyleModel",
     "state": {
      "_model_module": "@jupyter-widgets/controls",
      "_model_module_version": "1.5.0",
      "_model_name": "DescriptionStyleModel",
      "_view_count": null,
      "_view_module": "@jupyter-widgets/base",
      "_view_module_version": "1.2.0",
      "_view_name": "StyleView",
      "description_width": ""
     }
    },
    "9106d5bd35194124b534e5294dbe5e06": {
     "model_module": "@jupyter-widgets/base",
     "model_name": "LayoutModel",
     "state": {
      "_model_module": "@jupyter-widgets/base",
      "_model_module_version": "1.2.0",
      "_model_name": "LayoutModel",
      "_view_count": null,
      "_view_module": "@jupyter-widgets/base",
      "_view_module_version": "1.2.0",
      "_view_name": "LayoutView",
      "align_content": null,
      "align_items": null,
      "align_self": null,
      "border": null,
      "bottom": null,
      "display": null,
      "flex": null,
      "flex_flow": null,
      "grid_area": null,
      "grid_auto_columns": null,
      "grid_auto_flow": null,
      "grid_auto_rows": null,
      "grid_column": null,
      "grid_gap": null,
      "grid_row": null,
      "grid_template_areas": null,
      "grid_template_columns": null,
      "grid_template_rows": null,
      "height": null,
      "justify_content": null,
      "justify_items": null,
      "left": null,
      "margin": null,
      "max_height": null,
      "max_width": null,
      "min_height": null,
      "min_width": null,
      "object_fit": null,
      "object_position": null,
      "order": null,
      "overflow": null,
      "overflow_x": null,
      "overflow_y": null,
      "padding": null,
      "right": null,
      "top": null,
      "visibility": null,
      "width": null
     }
    },
    "93b740064e25470aa2e0fb0489a849c5": {
     "model_module": "@jupyter-widgets/base",
     "model_name": "LayoutModel",
     "state": {
      "_model_module": "@jupyter-widgets/base",
      "_model_module_version": "1.2.0",
      "_model_name": "LayoutModel",
      "_view_count": null,
      "_view_module": "@jupyter-widgets/base",
      "_view_module_version": "1.2.0",
      "_view_name": "LayoutView",
      "align_content": null,
      "align_items": null,
      "align_self": null,
      "border": null,
      "bottom": null,
      "display": null,
      "flex": null,
      "flex_flow": null,
      "grid_area": null,
      "grid_auto_columns": null,
      "grid_auto_flow": null,
      "grid_auto_rows": null,
      "grid_column": null,
      "grid_gap": null,
      "grid_row": null,
      "grid_template_areas": null,
      "grid_template_columns": null,
      "grid_template_rows": null,
      "height": null,
      "justify_content": null,
      "justify_items": null,
      "left": null,
      "margin": null,
      "max_height": null,
      "max_width": null,
      "min_height": null,
      "min_width": null,
      "object_fit": null,
      "object_position": null,
      "order": null,
      "overflow": null,
      "overflow_x": null,
      "overflow_y": null,
      "padding": null,
      "right": null,
      "top": null,
      "visibility": null,
      "width": null
     }
    },
    "949be82891784787b4e876a80a5a50c8": {
     "model_module": "@jupyter-widgets/base",
     "model_name": "LayoutModel",
     "state": {
      "_model_module": "@jupyter-widgets/base",
      "_model_module_version": "1.2.0",
      "_model_name": "LayoutModel",
      "_view_count": null,
      "_view_module": "@jupyter-widgets/base",
      "_view_module_version": "1.2.0",
      "_view_name": "LayoutView",
      "align_content": null,
      "align_items": null,
      "align_self": null,
      "border": null,
      "bottom": null,
      "display": null,
      "flex": null,
      "flex_flow": null,
      "grid_area": null,
      "grid_auto_columns": null,
      "grid_auto_flow": null,
      "grid_auto_rows": null,
      "grid_column": null,
      "grid_gap": null,
      "grid_row": null,
      "grid_template_areas": null,
      "grid_template_columns": null,
      "grid_template_rows": null,
      "height": null,
      "justify_content": null,
      "justify_items": null,
      "left": null,
      "margin": null,
      "max_height": null,
      "max_width": null,
      "min_height": null,
      "min_width": null,
      "object_fit": null,
      "object_position": null,
      "order": null,
      "overflow": null,
      "overflow_x": null,
      "overflow_y": null,
      "padding": null,
      "right": null,
      "top": null,
      "visibility": null,
      "width": null
     }
    },
    "9d6c5d92a7a948fbb86bd5f1f3987d09": {
     "model_module": "@jupyter-widgets/controls",
     "model_name": "IntSliderModel",
     "state": {
      "_dom_classes": [],
      "_model_module": "@jupyter-widgets/controls",
      "_model_module_version": "1.5.0",
      "_model_name": "IntSliderModel",
      "_view_count": null,
      "_view_module": "@jupyter-widgets/controls",
      "_view_module_version": "1.5.0",
      "_view_name": "IntSliderView",
      "continuous_update": true,
      "description": "bins",
      "description_tooltip": null,
      "disabled": false,
      "layout": "IPY_MODEL_20dbe2640608473099641c012037b1ff",
      "max": 500,
      "min": 1,
      "orientation": "horizontal",
      "readout": true,
      "readout_format": "d",
      "step": 1,
      "style": "IPY_MODEL_0a1d506fc99f485f9b269bb4a3a1ada1",
      "value": 250
     }
    },
    "a03379c197a24fd0a61e3a6065696734": {
     "model_module": "@jupyter-widgets/controls",
     "model_name": "DescriptionStyleModel",
     "state": {
      "_model_module": "@jupyter-widgets/controls",
      "_model_module_version": "1.5.0",
      "_model_name": "DescriptionStyleModel",
      "_view_count": null,
      "_view_module": "@jupyter-widgets/base",
      "_view_module_version": "1.2.0",
      "_view_name": "StyleView",
      "description_width": ""
     }
    },
    "a18cd07083fc4e77b7792296354aa1bf": {
     "model_module": "@jupyter-widgets/controls",
     "model_name": "SliderStyleModel",
     "state": {
      "_model_module": "@jupyter-widgets/controls",
      "_model_module_version": "1.5.0",
      "_model_name": "SliderStyleModel",
      "_view_count": null,
      "_view_module": "@jupyter-widgets/base",
      "_view_module_version": "1.2.0",
      "_view_name": "StyleView",
      "description_width": "",
      "handle_color": null
     }
    },
    "ad765be1a21a46f1be7334efbcef78a1": {
     "model_module": "@jupyter-widgets/controls",
     "model_name": "DropdownModel",
     "state": {
      "_dom_classes": [],
      "_model_module": "@jupyter-widgets/controls",
      "_model_module_version": "1.5.0",
      "_model_name": "DropdownModel",
      "_options_labels": [
       "mean",
       "variance"
      ],
      "_view_count": null,
      "_view_module": "@jupyter-widgets/controls",
      "_view_module_version": "1.5.0",
      "_view_name": "DropdownView",
      "description": "value",
      "description_tooltip": null,
      "disabled": false,
      "index": 0,
      "layout": "IPY_MODEL_93b740064e25470aa2e0fb0489a849c5",
      "style": "IPY_MODEL_83ea1778520142f99712dcef2d2a4faf"
     }
    },
    "bb385183fc774b399d5f081fd7914f6b": {
     "model_module": "@jupyter-widgets/controls",
     "model_name": "VBoxModel",
     "state": {
      "_dom_classes": [
       "widget-interact"
      ],
      "_model_module": "@jupyter-widgets/controls",
      "_model_module_version": "1.5.0",
      "_model_name": "VBoxModel",
      "_view_count": null,
      "_view_module": "@jupyter-widgets/controls",
      "_view_module_version": "1.5.0",
      "_view_name": "VBoxView",
      "box_style": "",
      "children": [
       "IPY_MODEL_5f8dbcd68bad4d7e86700738b64c5ab7",
       "IPY_MODEL_262e320c5c594cc192fe6d66159df72f",
       "IPY_MODEL_730a7b0c735149d7bebe43bcff8b0ee9",
       "IPY_MODEL_9d6c5d92a7a948fbb86bd5f1f3987d09",
       "IPY_MODEL_42dc5b3fd5674766aa51ac581b46094a"
      ],
      "layout": "IPY_MODEL_949be82891784787b4e876a80a5a50c8"
     }
    },
    "c35ac16330af47b88a0011b0c6a1cde3": {
     "model_module": "@jupyter-widgets/controls",
     "model_name": "DescriptionStyleModel",
     "state": {
      "_model_module": "@jupyter-widgets/controls",
      "_model_module_version": "1.5.0",
      "_model_name": "DescriptionStyleModel",
      "_view_count": null,
      "_view_module": "@jupyter-widgets/base",
      "_view_module_version": "1.2.0",
      "_view_name": "StyleView",
      "description_width": ""
     }
    },
    "c982754fa90c4e9b9c537854681a0a28": {
     "model_module": "@jupyter-widgets/base",
     "model_name": "LayoutModel",
     "state": {
      "_model_module": "@jupyter-widgets/base",
      "_model_module_version": "1.2.0",
      "_model_name": "LayoutModel",
      "_view_count": null,
      "_view_module": "@jupyter-widgets/base",
      "_view_module_version": "1.2.0",
      "_view_name": "LayoutView",
      "align_content": null,
      "align_items": null,
      "align_self": null,
      "border": null,
      "bottom": null,
      "display": null,
      "flex": null,
      "flex_flow": null,
      "grid_area": null,
      "grid_auto_columns": null,
      "grid_auto_flow": null,
      "grid_auto_rows": null,
      "grid_column": null,
      "grid_gap": null,
      "grid_row": null,
      "grid_template_areas": null,
      "grid_template_columns": null,
      "grid_template_rows": null,
      "height": null,
      "justify_content": null,
      "justify_items": null,
      "left": null,
      "margin": null,
      "max_height": null,
      "max_width": null,
      "min_height": null,
      "min_width": null,
      "object_fit": null,
      "object_position": null,
      "order": null,
      "overflow": null,
      "overflow_x": null,
      "overflow_y": null,
      "padding": null,
      "right": null,
      "top": null,
      "visibility": null,
      "width": null
     }
    },
    "f2456e7f18d44439a80077ee908469ae": {
     "model_module": "@jupyter-widgets/base",
     "model_name": "LayoutModel",
     "state": {
      "_model_module": "@jupyter-widgets/base",
      "_model_module_version": "1.2.0",
      "_model_name": "LayoutModel",
      "_view_count": null,
      "_view_module": "@jupyter-widgets/base",
      "_view_module_version": "1.2.0",
      "_view_name": "LayoutView",
      "align_content": null,
      "align_items": null,
      "align_self": null,
      "border": null,
      "bottom": null,
      "display": null,
      "flex": null,
      "flex_flow": null,
      "grid_area": null,
      "grid_auto_columns": null,
      "grid_auto_flow": null,
      "grid_auto_rows": null,
      "grid_column": null,
      "grid_gap": null,
      "grid_row": null,
      "grid_template_areas": null,
      "grid_template_columns": null,
      "grid_template_rows": null,
      "height": null,
      "justify_content": null,
      "justify_items": null,
      "left": null,
      "margin": null,
      "max_height": null,
      "max_width": null,
      "min_height": null,
      "min_width": null,
      "object_fit": null,
      "object_position": null,
      "order": null,
      "overflow": null,
      "overflow_x": null,
      "overflow_y": null,
      "padding": null,
      "right": null,
      "top": null,
      "visibility": null,
      "width": null
     }
    },
    "faea93ff48f440de8254773b2fb3cf06": {
     "model_module": "@jupyter-widgets/base",
     "model_name": "LayoutModel",
     "state": {
      "_model_module": "@jupyter-widgets/base",
      "_model_module_version": "1.2.0",
      "_model_name": "LayoutModel",
      "_view_count": null,
      "_view_module": "@jupyter-widgets/base",
      "_view_module_version": "1.2.0",
      "_view_name": "LayoutView",
      "align_content": null,
      "align_items": null,
      "align_self": null,
      "border": null,
      "bottom": null,
      "display": null,
      "flex": null,
      "flex_flow": null,
      "grid_area": null,
      "grid_auto_columns": null,
      "grid_auto_flow": null,
      "grid_auto_rows": null,
      "grid_column": null,
      "grid_gap": null,
      "grid_row": null,
      "grid_template_areas": null,
      "grid_template_columns": null,
      "grid_template_rows": null,
      "height": null,
      "justify_content": null,
      "justify_items": null,
      "left": null,
      "margin": null,
      "max_height": null,
      "max_width": null,
      "min_height": null,
      "min_width": null,
      "object_fit": null,
      "object_position": null,
      "order": null,
      "overflow": null,
      "overflow_x": null,
      "overflow_y": null,
      "padding": null,
      "right": null,
      "top": null,
      "visibility": null,
      "width": null
     }
    }
   }
  }
 },
 "nbformat": 4,
 "nbformat_minor": 1
}
