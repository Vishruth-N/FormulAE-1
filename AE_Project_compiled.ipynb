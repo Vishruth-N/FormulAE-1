{
  "nbformat": 4,
  "nbformat_minor": 0,
  "metadata": {
    "colab": {
      "name": "AE Project compiled.ipynb",
      "provenance": [],
      "collapsed_sections": [],
      "include_colab_link": true
    },
    "kernelspec": {
      "display_name": "Python 3",
      "language": "python",
      "name": "python3"
    },
    "language_info": {
      "codemirror_mode": {
        "name": "ipython",
        "version": 3
      },
      "file_extension": ".py",
      "mimetype": "text/x-python",
      "name": "python",
      "nbconvert_exporter": "python",
      "pygments_lexer": "ipython3",
      "version": "3.8.5"
    },
    "widgets": {
      "application/vnd.jupyter.widget-state+json": {
        "086c683cfec040518d3f507b1e262eb4": {
          "model_module": "@jupyter-widgets/controls",
          "model_name": "VBoxModel",
          "state": {
            "_view_name": "VBoxView",
            "_dom_classes": [
              "widget-interact"
            ],
            "_model_name": "VBoxModel",
            "_view_module": "@jupyter-widgets/controls",
            "_model_module_version": "1.5.0",
            "_view_count": null,
            "_view_module_version": "1.5.0",
            "box_style": "",
            "layout": "IPY_MODEL_71fcd3a7108f4bd7a859eb99a69ed3a5",
            "_model_module": "@jupyter-widgets/controls",
            "children": [
              "IPY_MODEL_ec478c2f1bdd4c8089711fcb7a6dab63",
              "IPY_MODEL_18ce2ca5edfc48fbaf7f896012a13091",
              "IPY_MODEL_63e0d16160784ade8d4e04ef59108aec",
              "IPY_MODEL_7a53b781657e4bb79185f70a22338d39",
              "IPY_MODEL_2fea2b37b3f04d69a929dbc15534b0fd"
            ]
          }
        },
        "71fcd3a7108f4bd7a859eb99a69ed3a5": {
          "model_module": "@jupyter-widgets/base",
          "model_name": "LayoutModel",
          "state": {
            "_view_name": "LayoutView",
            "grid_template_rows": null,
            "right": null,
            "justify_content": null,
            "_view_module": "@jupyter-widgets/base",
            "overflow": null,
            "_model_module_version": "1.2.0",
            "_view_count": null,
            "flex_flow": null,
            "width": null,
            "min_width": null,
            "border": null,
            "align_items": null,
            "bottom": null,
            "_model_module": "@jupyter-widgets/base",
            "top": null,
            "grid_column": null,
            "overflow_y": null,
            "overflow_x": null,
            "grid_auto_flow": null,
            "grid_area": null,
            "grid_template_columns": null,
            "flex": null,
            "_model_name": "LayoutModel",
            "justify_items": null,
            "grid_row": null,
            "max_height": null,
            "align_content": null,
            "visibility": null,
            "align_self": null,
            "height": null,
            "min_height": null,
            "padding": null,
            "grid_auto_rows": null,
            "grid_gap": null,
            "max_width": null,
            "order": null,
            "_view_module_version": "1.2.0",
            "grid_template_areas": null,
            "object_position": null,
            "object_fit": null,
            "grid_auto_columns": null,
            "margin": null,
            "display": null,
            "left": null
          }
        },
        "ec478c2f1bdd4c8089711fcb7a6dab63": {
          "model_module": "@jupyter-widgets/controls",
          "model_name": "DropdownModel",
          "state": {
            "_options_labels": [
              "Laptime",
              "Pit Time"
            ],
            "_view_name": "DropdownView",
            "style": "IPY_MODEL_df250a42b2a045758383850c57c70295",
            "_dom_classes": [],
            "description": "Input",
            "_model_name": "DropdownModel",
            "index": 0,
            "_view_module": "@jupyter-widgets/controls",
            "_model_module_version": "1.5.0",
            "_view_count": null,
            "disabled": false,
            "_view_module_version": "1.5.0",
            "description_tooltip": null,
            "_model_module": "@jupyter-widgets/controls",
            "layout": "IPY_MODEL_09d574e7fa1c4771924356156570b2cc"
          }
        },
        "18ce2ca5edfc48fbaf7f896012a13091": {
          "model_module": "@jupyter-widgets/controls",
          "model_name": "DropdownModel",
          "state": {
            "_options_labels": [
              "mean",
              "variance",
              "std"
            ],
            "_view_name": "DropdownView",
            "style": "IPY_MODEL_7f5591299792478ea69ae7df759ff914",
            "_dom_classes": [],
            "description": "value",
            "_model_name": "DropdownModel",
            "index": 0,
            "_view_module": "@jupyter-widgets/controls",
            "_model_module_version": "1.5.0",
            "_view_count": null,
            "disabled": false,
            "_view_module_version": "1.5.0",
            "description_tooltip": null,
            "_model_module": "@jupyter-widgets/controls",
            "layout": "IPY_MODEL_be93747a01094ca89e40af23063ca2c3"
          }
        },
        "63e0d16160784ade8d4e04ef59108aec": {
          "model_module": "@jupyter-widgets/controls",
          "model_name": "IntSliderModel",
          "state": {
            "_view_name": "IntSliderView",
            "style": "IPY_MODEL_6b0dc420112f413090ebe8befba935c7",
            "_dom_classes": [],
            "description": "sample_size",
            "step": 1,
            "_model_name": "IntSliderModel",
            "orientation": "horizontal",
            "max": 1000,
            "_view_module": "@jupyter-widgets/controls",
            "_model_module_version": "1.5.0",
            "value": 500,
            "_view_count": null,
            "disabled": false,
            "_view_module_version": "1.5.0",
            "min": 1,
            "continuous_update": true,
            "readout_format": "d",
            "description_tooltip": null,
            "readout": true,
            "_model_module": "@jupyter-widgets/controls",
            "layout": "IPY_MODEL_29344d82f99d4de8b46e39f5819b76ed"
          }
        },
        "7a53b781657e4bb79185f70a22338d39": {
          "model_module": "@jupyter-widgets/controls",
          "model_name": "IntSliderModel",
          "state": {
            "_view_name": "IntSliderView",
            "style": "IPY_MODEL_a13156f0632d430ea429f18a8c70ae71",
            "_dom_classes": [],
            "description": "bins",
            "step": 1,
            "_model_name": "IntSliderModel",
            "orientation": "horizontal",
            "max": 500,
            "_view_module": "@jupyter-widgets/controls",
            "_model_module_version": "1.5.0",
            "value": 250,
            "_view_count": null,
            "disabled": false,
            "_view_module_version": "1.5.0",
            "min": 1,
            "continuous_update": true,
            "readout_format": "d",
            "description_tooltip": null,
            "readout": true,
            "_model_module": "@jupyter-widgets/controls",
            "layout": "IPY_MODEL_ed0ad962c19b4ce1a27ab84fc6de798a"
          }
        },
        "2fea2b37b3f04d69a929dbc15534b0fd": {
          "model_module": "@jupyter-widgets/output",
          "model_name": "OutputModel",
          "state": {
            "_view_name": "OutputView",
            "msg_id": "",
            "_dom_classes": [],
            "_model_name": "OutputModel",
            "outputs": [
              {
                "output_type": "display_data",
                "metadata": {
                  "tags": [],
                  "needs_background": "light"
                },
                "image/png": "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\n",
                "text/plain": "<Figure size 432x288 with 1 Axes>"
              }
            ],
            "_view_module": "@jupyter-widgets/output",
            "_model_module_version": "1.0.0",
            "_view_count": null,
            "_view_module_version": "1.0.0",
            "layout": "IPY_MODEL_1354a533866347d7bb7b24aff49d957d",
            "_model_module": "@jupyter-widgets/output"
          }
        },
        "df250a42b2a045758383850c57c70295": {
          "model_module": "@jupyter-widgets/controls",
          "model_name": "DescriptionStyleModel",
          "state": {
            "_view_name": "StyleView",
            "_model_name": "DescriptionStyleModel",
            "description_width": "",
            "_view_module": "@jupyter-widgets/base",
            "_model_module_version": "1.5.0",
            "_view_count": null,
            "_view_module_version": "1.2.0",
            "_model_module": "@jupyter-widgets/controls"
          }
        },
        "09d574e7fa1c4771924356156570b2cc": {
          "model_module": "@jupyter-widgets/base",
          "model_name": "LayoutModel",
          "state": {
            "_view_name": "LayoutView",
            "grid_template_rows": null,
            "right": null,
            "justify_content": null,
            "_view_module": "@jupyter-widgets/base",
            "overflow": null,
            "_model_module_version": "1.2.0",
            "_view_count": null,
            "flex_flow": null,
            "width": null,
            "min_width": null,
            "border": null,
            "align_items": null,
            "bottom": null,
            "_model_module": "@jupyter-widgets/base",
            "top": null,
            "grid_column": null,
            "overflow_y": null,
            "overflow_x": null,
            "grid_auto_flow": null,
            "grid_area": null,
            "grid_template_columns": null,
            "flex": null,
            "_model_name": "LayoutModel",
            "justify_items": null,
            "grid_row": null,
            "max_height": null,
            "align_content": null,
            "visibility": null,
            "align_self": null,
            "height": null,
            "min_height": null,
            "padding": null,
            "grid_auto_rows": null,
            "grid_gap": null,
            "max_width": null,
            "order": null,
            "_view_module_version": "1.2.0",
            "grid_template_areas": null,
            "object_position": null,
            "object_fit": null,
            "grid_auto_columns": null,
            "margin": null,
            "display": null,
            "left": null
          }
        },
        "7f5591299792478ea69ae7df759ff914": {
          "model_module": "@jupyter-widgets/controls",
          "model_name": "DescriptionStyleModel",
          "state": {
            "_view_name": "StyleView",
            "_model_name": "DescriptionStyleModel",
            "description_width": "",
            "_view_module": "@jupyter-widgets/base",
            "_model_module_version": "1.5.0",
            "_view_count": null,
            "_view_module_version": "1.2.0",
            "_model_module": "@jupyter-widgets/controls"
          }
        },
        "be93747a01094ca89e40af23063ca2c3": {
          "model_module": "@jupyter-widgets/base",
          "model_name": "LayoutModel",
          "state": {
            "_view_name": "LayoutView",
            "grid_template_rows": null,
            "right": null,
            "justify_content": null,
            "_view_module": "@jupyter-widgets/base",
            "overflow": null,
            "_model_module_version": "1.2.0",
            "_view_count": null,
            "flex_flow": null,
            "width": null,
            "min_width": null,
            "border": null,
            "align_items": null,
            "bottom": null,
            "_model_module": "@jupyter-widgets/base",
            "top": null,
            "grid_column": null,
            "overflow_y": null,
            "overflow_x": null,
            "grid_auto_flow": null,
            "grid_area": null,
            "grid_template_columns": null,
            "flex": null,
            "_model_name": "LayoutModel",
            "justify_items": null,
            "grid_row": null,
            "max_height": null,
            "align_content": null,
            "visibility": null,
            "align_self": null,
            "height": null,
            "min_height": null,
            "padding": null,
            "grid_auto_rows": null,
            "grid_gap": null,
            "max_width": null,
            "order": null,
            "_view_module_version": "1.2.0",
            "grid_template_areas": null,
            "object_position": null,
            "object_fit": null,
            "grid_auto_columns": null,
            "margin": null,
            "display": null,
            "left": null
          }
        },
        "6b0dc420112f413090ebe8befba935c7": {
          "model_module": "@jupyter-widgets/controls",
          "model_name": "SliderStyleModel",
          "state": {
            "_view_name": "StyleView",
            "handle_color": null,
            "_model_name": "SliderStyleModel",
            "description_width": "",
            "_view_module": "@jupyter-widgets/base",
            "_model_module_version": "1.5.0",
            "_view_count": null,
            "_view_module_version": "1.2.0",
            "_model_module": "@jupyter-widgets/controls"
          }
        },
        "29344d82f99d4de8b46e39f5819b76ed": {
          "model_module": "@jupyter-widgets/base",
          "model_name": "LayoutModel",
          "state": {
            "_view_name": "LayoutView",
            "grid_template_rows": null,
            "right": null,
            "justify_content": null,
            "_view_module": "@jupyter-widgets/base",
            "overflow": null,
            "_model_module_version": "1.2.0",
            "_view_count": null,
            "flex_flow": null,
            "width": null,
            "min_width": null,
            "border": null,
            "align_items": null,
            "bottom": null,
            "_model_module": "@jupyter-widgets/base",
            "top": null,
            "grid_column": null,
            "overflow_y": null,
            "overflow_x": null,
            "grid_auto_flow": null,
            "grid_area": null,
            "grid_template_columns": null,
            "flex": null,
            "_model_name": "LayoutModel",
            "justify_items": null,
            "grid_row": null,
            "max_height": null,
            "align_content": null,
            "visibility": null,
            "align_self": null,
            "height": null,
            "min_height": null,
            "padding": null,
            "grid_auto_rows": null,
            "grid_gap": null,
            "max_width": null,
            "order": null,
            "_view_module_version": "1.2.0",
            "grid_template_areas": null,
            "object_position": null,
            "object_fit": null,
            "grid_auto_columns": null,
            "margin": null,
            "display": null,
            "left": null
          }
        },
        "a13156f0632d430ea429f18a8c70ae71": {
          "model_module": "@jupyter-widgets/controls",
          "model_name": "SliderStyleModel",
          "state": {
            "_view_name": "StyleView",
            "handle_color": null,
            "_model_name": "SliderStyleModel",
            "description_width": "",
            "_view_module": "@jupyter-widgets/base",
            "_model_module_version": "1.5.0",
            "_view_count": null,
            "_view_module_version": "1.2.0",
            "_model_module": "@jupyter-widgets/controls"
          }
        },
        "ed0ad962c19b4ce1a27ab84fc6de798a": {
          "model_module": "@jupyter-widgets/base",
          "model_name": "LayoutModel",
          "state": {
            "_view_name": "LayoutView",
            "grid_template_rows": null,
            "right": null,
            "justify_content": null,
            "_view_module": "@jupyter-widgets/base",
            "overflow": null,
            "_model_module_version": "1.2.0",
            "_view_count": null,
            "flex_flow": null,
            "width": null,
            "min_width": null,
            "border": null,
            "align_items": null,
            "bottom": null,
            "_model_module": "@jupyter-widgets/base",
            "top": null,
            "grid_column": null,
            "overflow_y": null,
            "overflow_x": null,
            "grid_auto_flow": null,
            "grid_area": null,
            "grid_template_columns": null,
            "flex": null,
            "_model_name": "LayoutModel",
            "justify_items": null,
            "grid_row": null,
            "max_height": null,
            "align_content": null,
            "visibility": null,
            "align_self": null,
            "height": null,
            "min_height": null,
            "padding": null,
            "grid_auto_rows": null,
            "grid_gap": null,
            "max_width": null,
            "order": null,
            "_view_module_version": "1.2.0",
            "grid_template_areas": null,
            "object_position": null,
            "object_fit": null,
            "grid_auto_columns": null,
            "margin": null,
            "display": null,
            "left": null
          }
        },
        "1354a533866347d7bb7b24aff49d957d": {
          "model_module": "@jupyter-widgets/base",
          "model_name": "LayoutModel",
          "state": {
            "_view_name": "LayoutView",
            "grid_template_rows": null,
            "right": null,
            "justify_content": null,
            "_view_module": "@jupyter-widgets/base",
            "overflow": null,
            "_model_module_version": "1.2.0",
            "_view_count": null,
            "flex_flow": null,
            "width": null,
            "min_width": null,
            "border": null,
            "align_items": null,
            "bottom": null,
            "_model_module": "@jupyter-widgets/base",
            "top": null,
            "grid_column": null,
            "overflow_y": null,
            "overflow_x": null,
            "grid_auto_flow": null,
            "grid_area": null,
            "grid_template_columns": null,
            "flex": null,
            "_model_name": "LayoutModel",
            "justify_items": null,
            "grid_row": null,
            "max_height": null,
            "align_content": null,
            "visibility": null,
            "align_self": null,
            "height": null,
            "min_height": null,
            "padding": null,
            "grid_auto_rows": null,
            "grid_gap": null,
            "max_width": null,
            "order": null,
            "_view_module_version": "1.2.0",
            "grid_template_areas": null,
            "object_position": null,
            "object_fit": null,
            "grid_auto_columns": null,
            "margin": null,
            "display": null,
            "left": null
          }
        },
        "6805ec82c23d461aba2cded30b68264e": {
          "model_module": "@jupyter-widgets/controls",
          "model_name": "VBoxModel",
          "state": {
            "_view_name": "VBoxView",
            "_dom_classes": [
              "widget-interact"
            ],
            "_model_name": "VBoxModel",
            "_view_module": "@jupyter-widgets/controls",
            "_model_module_version": "1.5.0",
            "_view_count": null,
            "_view_module_version": "1.5.0",
            "box_style": "",
            "layout": "IPY_MODEL_afc66c46d0414992811fe4d90ff8ff82",
            "_model_module": "@jupyter-widgets/controls",
            "children": [
              "IPY_MODEL_6ad4568e84664457ab98128083866e9e",
              "IPY_MODEL_3d0092f3e62d41f3a3ec3cf2d79e11ad",
              "IPY_MODEL_ee8783c96b4c47be944aeab4cfe863e8",
              "IPY_MODEL_7827aef23b294a19a3b02b4bee17f360",
              "IPY_MODEL_ad5535f987a8429c8645d8e4f0e7c8a8"
            ]
          }
        },
        "afc66c46d0414992811fe4d90ff8ff82": {
          "model_module": "@jupyter-widgets/base",
          "model_name": "LayoutModel",
          "state": {
            "_view_name": "LayoutView",
            "grid_template_rows": null,
            "right": null,
            "justify_content": null,
            "_view_module": "@jupyter-widgets/base",
            "overflow": null,
            "_model_module_version": "1.2.0",
            "_view_count": null,
            "flex_flow": null,
            "width": null,
            "min_width": null,
            "border": null,
            "align_items": null,
            "bottom": null,
            "_model_module": "@jupyter-widgets/base",
            "top": null,
            "grid_column": null,
            "overflow_y": null,
            "overflow_x": null,
            "grid_auto_flow": null,
            "grid_area": null,
            "grid_template_columns": null,
            "flex": null,
            "_model_name": "LayoutModel",
            "justify_items": null,
            "grid_row": null,
            "max_height": null,
            "align_content": null,
            "visibility": null,
            "align_self": null,
            "height": null,
            "min_height": null,
            "padding": null,
            "grid_auto_rows": null,
            "grid_gap": null,
            "max_width": null,
            "order": null,
            "_view_module_version": "1.2.0",
            "grid_template_areas": null,
            "object_position": null,
            "object_fit": null,
            "grid_auto_columns": null,
            "margin": null,
            "display": null,
            "left": null
          }
        },
        "6ad4568e84664457ab98128083866e9e": {
          "model_module": "@jupyter-widgets/controls",
          "model_name": "DropdownModel",
          "state": {
            "_options_labels": [
              "Laptime",
              "Pit Time"
            ],
            "_view_name": "DropdownView",
            "style": "IPY_MODEL_6e90c9cbdcd24765af23c616c5d9eab8",
            "_dom_classes": [],
            "description": "Input",
            "_model_name": "DropdownModel",
            "index": 0,
            "_view_module": "@jupyter-widgets/controls",
            "_model_module_version": "1.5.0",
            "_view_count": null,
            "disabled": false,
            "_view_module_version": "1.5.0",
            "description_tooltip": null,
            "_model_module": "@jupyter-widgets/controls",
            "layout": "IPY_MODEL_1c9527cf39924683bb247b199c81bc67"
          }
        },
        "3d0092f3e62d41f3a3ec3cf2d79e11ad": {
          "model_module": "@jupyter-widgets/controls",
          "model_name": "DropdownModel",
          "state": {
            "_options_labels": [
              "mean",
              "variance"
            ],
            "_view_name": "DropdownView",
            "style": "IPY_MODEL_aae1d1ea4a804acfa599bdebbca4e132",
            "_dom_classes": [],
            "description": "value",
            "_model_name": "DropdownModel",
            "index": 0,
            "_view_module": "@jupyter-widgets/controls",
            "_model_module_version": "1.5.0",
            "_view_count": null,
            "disabled": false,
            "_view_module_version": "1.5.0",
            "description_tooltip": null,
            "_model_module": "@jupyter-widgets/controls",
            "layout": "IPY_MODEL_f1cd1524e9df489ebdb0ccc99b28efc7"
          }
        },
        "ee8783c96b4c47be944aeab4cfe863e8": {
          "model_module": "@jupyter-widgets/controls",
          "model_name": "IntSliderModel",
          "state": {
            "_view_name": "IntSliderView",
            "style": "IPY_MODEL_c33420b77748451eae73afcac403975c",
            "_dom_classes": [],
            "description": "sample_size",
            "step": 1,
            "_model_name": "IntSliderModel",
            "orientation": "horizontal",
            "max": 1000,
            "_view_module": "@jupyter-widgets/controls",
            "_model_module_version": "1.5.0",
            "value": 500,
            "_view_count": null,
            "disabled": false,
            "_view_module_version": "1.5.0",
            "min": 1,
            "continuous_update": true,
            "readout_format": "d",
            "description_tooltip": null,
            "readout": true,
            "_model_module": "@jupyter-widgets/controls",
            "layout": "IPY_MODEL_c22b3da9261a4621a66ef2d69c19d9dc"
          }
        },
        "7827aef23b294a19a3b02b4bee17f360": {
          "model_module": "@jupyter-widgets/controls",
          "model_name": "FloatSliderModel",
          "state": {
            "_view_name": "FloatSliderView",
            "style": "IPY_MODEL_586310a7fa1f4f7ebcf02a6b9610c901",
            "_dom_classes": [],
            "description": "Conf_level",
            "step": 0.1,
            "_model_name": "FloatSliderModel",
            "orientation": "horizontal",
            "max": 99.9,
            "_view_module": "@jupyter-widgets/controls",
            "_model_module_version": "1.5.0",
            "value": 74.95,
            "_view_count": null,
            "disabled": false,
            "_view_module_version": "1.5.0",
            "min": 50,
            "continuous_update": true,
            "readout_format": ".2f",
            "description_tooltip": null,
            "readout": true,
            "_model_module": "@jupyter-widgets/controls",
            "layout": "IPY_MODEL_4063e079bf3b4416aa83d73ca7d22778"
          }
        },
        "ad5535f987a8429c8645d8e4f0e7c8a8": {
          "model_module": "@jupyter-widgets/output",
          "model_name": "OutputModel",
          "state": {
            "_view_name": "OutputView",
            "msg_id": "",
            "_dom_classes": [],
            "_model_name": "OutputModel",
            "outputs": [
              {
                "output_type": "stream",
                "metadata": {
                  "tags": []
                },
                "text": "True mean of Laptime  : 99494.19319722841 \n 74.95 % confidence interval :  [98911.2530542743, 100939.69310240835]\n",
                "stream": "stdout"
              }
            ],
            "_view_module": "@jupyter-widgets/output",
            "_model_module_version": "1.0.0",
            "_view_count": null,
            "_view_module_version": "1.0.0",
            "layout": "IPY_MODEL_66f74e328dd549b886fd9fdcfae77fcf",
            "_model_module": "@jupyter-widgets/output"
          }
        },
        "6e90c9cbdcd24765af23c616c5d9eab8": {
          "model_module": "@jupyter-widgets/controls",
          "model_name": "DescriptionStyleModel",
          "state": {
            "_view_name": "StyleView",
            "_model_name": "DescriptionStyleModel",
            "description_width": "",
            "_view_module": "@jupyter-widgets/base",
            "_model_module_version": "1.5.0",
            "_view_count": null,
            "_view_module_version": "1.2.0",
            "_model_module": "@jupyter-widgets/controls"
          }
        },
        "1c9527cf39924683bb247b199c81bc67": {
          "model_module": "@jupyter-widgets/base",
          "model_name": "LayoutModel",
          "state": {
            "_view_name": "LayoutView",
            "grid_template_rows": null,
            "right": null,
            "justify_content": null,
            "_view_module": "@jupyter-widgets/base",
            "overflow": null,
            "_model_module_version": "1.2.0",
            "_view_count": null,
            "flex_flow": null,
            "width": null,
            "min_width": null,
            "border": null,
            "align_items": null,
            "bottom": null,
            "_model_module": "@jupyter-widgets/base",
            "top": null,
            "grid_column": null,
            "overflow_y": null,
            "overflow_x": null,
            "grid_auto_flow": null,
            "grid_area": null,
            "grid_template_columns": null,
            "flex": null,
            "_model_name": "LayoutModel",
            "justify_items": null,
            "grid_row": null,
            "max_height": null,
            "align_content": null,
            "visibility": null,
            "align_self": null,
            "height": null,
            "min_height": null,
            "padding": null,
            "grid_auto_rows": null,
            "grid_gap": null,
            "max_width": null,
            "order": null,
            "_view_module_version": "1.2.0",
            "grid_template_areas": null,
            "object_position": null,
            "object_fit": null,
            "grid_auto_columns": null,
            "margin": null,
            "display": null,
            "left": null
          }
        },
        "aae1d1ea4a804acfa599bdebbca4e132": {
          "model_module": "@jupyter-widgets/controls",
          "model_name": "DescriptionStyleModel",
          "state": {
            "_view_name": "StyleView",
            "_model_name": "DescriptionStyleModel",
            "description_width": "",
            "_view_module": "@jupyter-widgets/base",
            "_model_module_version": "1.5.0",
            "_view_count": null,
            "_view_module_version": "1.2.0",
            "_model_module": "@jupyter-widgets/controls"
          }
        },
        "f1cd1524e9df489ebdb0ccc99b28efc7": {
          "model_module": "@jupyter-widgets/base",
          "model_name": "LayoutModel",
          "state": {
            "_view_name": "LayoutView",
            "grid_template_rows": null,
            "right": null,
            "justify_content": null,
            "_view_module": "@jupyter-widgets/base",
            "overflow": null,
            "_model_module_version": "1.2.0",
            "_view_count": null,
            "flex_flow": null,
            "width": null,
            "min_width": null,
            "border": null,
            "align_items": null,
            "bottom": null,
            "_model_module": "@jupyter-widgets/base",
            "top": null,
            "grid_column": null,
            "overflow_y": null,
            "overflow_x": null,
            "grid_auto_flow": null,
            "grid_area": null,
            "grid_template_columns": null,
            "flex": null,
            "_model_name": "LayoutModel",
            "justify_items": null,
            "grid_row": null,
            "max_height": null,
            "align_content": null,
            "visibility": null,
            "align_self": null,
            "height": null,
            "min_height": null,
            "padding": null,
            "grid_auto_rows": null,
            "grid_gap": null,
            "max_width": null,
            "order": null,
            "_view_module_version": "1.2.0",
            "grid_template_areas": null,
            "object_position": null,
            "object_fit": null,
            "grid_auto_columns": null,
            "margin": null,
            "display": null,
            "left": null
          }
        },
        "c33420b77748451eae73afcac403975c": {
          "model_module": "@jupyter-widgets/controls",
          "model_name": "SliderStyleModel",
          "state": {
            "_view_name": "StyleView",
            "handle_color": null,
            "_model_name": "SliderStyleModel",
            "description_width": "",
            "_view_module": "@jupyter-widgets/base",
            "_model_module_version": "1.5.0",
            "_view_count": null,
            "_view_module_version": "1.2.0",
            "_model_module": "@jupyter-widgets/controls"
          }
        },
        "c22b3da9261a4621a66ef2d69c19d9dc": {
          "model_module": "@jupyter-widgets/base",
          "model_name": "LayoutModel",
          "state": {
            "_view_name": "LayoutView",
            "grid_template_rows": null,
            "right": null,
            "justify_content": null,
            "_view_module": "@jupyter-widgets/base",
            "overflow": null,
            "_model_module_version": "1.2.0",
            "_view_count": null,
            "flex_flow": null,
            "width": null,
            "min_width": null,
            "border": null,
            "align_items": null,
            "bottom": null,
            "_model_module": "@jupyter-widgets/base",
            "top": null,
            "grid_column": null,
            "overflow_y": null,
            "overflow_x": null,
            "grid_auto_flow": null,
            "grid_area": null,
            "grid_template_columns": null,
            "flex": null,
            "_model_name": "LayoutModel",
            "justify_items": null,
            "grid_row": null,
            "max_height": null,
            "align_content": null,
            "visibility": null,
            "align_self": null,
            "height": null,
            "min_height": null,
            "padding": null,
            "grid_auto_rows": null,
            "grid_gap": null,
            "max_width": null,
            "order": null,
            "_view_module_version": "1.2.0",
            "grid_template_areas": null,
            "object_position": null,
            "object_fit": null,
            "grid_auto_columns": null,
            "margin": null,
            "display": null,
            "left": null
          }
        },
        "586310a7fa1f4f7ebcf02a6b9610c901": {
          "model_module": "@jupyter-widgets/controls",
          "model_name": "SliderStyleModel",
          "state": {
            "_view_name": "StyleView",
            "handle_color": null,
            "_model_name": "SliderStyleModel",
            "description_width": "",
            "_view_module": "@jupyter-widgets/base",
            "_model_module_version": "1.5.0",
            "_view_count": null,
            "_view_module_version": "1.2.0",
            "_model_module": "@jupyter-widgets/controls"
          }
        },
        "4063e079bf3b4416aa83d73ca7d22778": {
          "model_module": "@jupyter-widgets/base",
          "model_name": "LayoutModel",
          "state": {
            "_view_name": "LayoutView",
            "grid_template_rows": null,
            "right": null,
            "justify_content": null,
            "_view_module": "@jupyter-widgets/base",
            "overflow": null,
            "_model_module_version": "1.2.0",
            "_view_count": null,
            "flex_flow": null,
            "width": null,
            "min_width": null,
            "border": null,
            "align_items": null,
            "bottom": null,
            "_model_module": "@jupyter-widgets/base",
            "top": null,
            "grid_column": null,
            "overflow_y": null,
            "overflow_x": null,
            "grid_auto_flow": null,
            "grid_area": null,
            "grid_template_columns": null,
            "flex": null,
            "_model_name": "LayoutModel",
            "justify_items": null,
            "grid_row": null,
            "max_height": null,
            "align_content": null,
            "visibility": null,
            "align_self": null,
            "height": null,
            "min_height": null,
            "padding": null,
            "grid_auto_rows": null,
            "grid_gap": null,
            "max_width": null,
            "order": null,
            "_view_module_version": "1.2.0",
            "grid_template_areas": null,
            "object_position": null,
            "object_fit": null,
            "grid_auto_columns": null,
            "margin": null,
            "display": null,
            "left": null
          }
        },
        "66f74e328dd549b886fd9fdcfae77fcf": {
          "model_module": "@jupyter-widgets/base",
          "model_name": "LayoutModel",
          "state": {
            "_view_name": "LayoutView",
            "grid_template_rows": null,
            "right": null,
            "justify_content": null,
            "_view_module": "@jupyter-widgets/base",
            "overflow": null,
            "_model_module_version": "1.2.0",
            "_view_count": null,
            "flex_flow": null,
            "width": null,
            "min_width": null,
            "border": null,
            "align_items": null,
            "bottom": null,
            "_model_module": "@jupyter-widgets/base",
            "top": null,
            "grid_column": null,
            "overflow_y": null,
            "overflow_x": null,
            "grid_auto_flow": null,
            "grid_area": null,
            "grid_template_columns": null,
            "flex": null,
            "_model_name": "LayoutModel",
            "justify_items": null,
            "grid_row": null,
            "max_height": null,
            "align_content": null,
            "visibility": null,
            "align_self": null,
            "height": null,
            "min_height": null,
            "padding": null,
            "grid_auto_rows": null,
            "grid_gap": null,
            "max_width": null,
            "order": null,
            "_view_module_version": "1.2.0",
            "grid_template_areas": null,
            "object_position": null,
            "object_fit": null,
            "grid_auto_columns": null,
            "margin": null,
            "display": null,
            "left": null
          }
        }
      }
    }
  },
  "cells": [
    {
      "cell_type": "markdown",
      "metadata": {
        "id": "view-in-github",
        "colab_type": "text"
      },
      "source": [
        "<a href=\"https://colab.research.google.com/github/Vishruth-N/FormulAE-1/blob/main/AE_Project_compiled.ipynb\" target=\"_parent\"><img src=\"https://colab.research.google.com/assets/colab-badge.svg\" alt=\"Open In Colab\"/></a>"
      ]
    },
    {
      "cell_type": "markdown",
      "metadata": {
        "id": "l4zai5ix7A-1"
      },
      "source": [
        "#<h1><center>FormulAE - 1</center></h1>\n",
        "#<h1><center>The Racing Analysts!</center></h1>"
      ]
    },
    {
      "cell_type": "markdown",
      "metadata": {
        "id": "Pqe2MLxLvY2E"
      },
      "source": [
        "###Importing all the modules required:"
      ]
    },
    {
      "cell_type": "code",
      "metadata": {
        "id": "QNYpl98gRgfj"
      },
      "source": [
        "%matplotlib inline\n",
        "import numpy as np\n",
        "import pandas as pd\n",
        "import matplotlib.pyplot as plt\n",
        "from ipywidgets import interact\n",
        "from scipy.stats import norm,chi2,t\n",
        "from math import sqrt\n",
        "import seaborn as sns"
      ],
      "execution_count": 49,
      "outputs": []
    },
    {
      "cell_type": "markdown",
      "metadata": {
        "id": "9epuHtll7Sgs"
      },
      "source": [
        "##In this project, we analyse two random variables from various Formula 1 races, namely\n",
        "\n",
        "\n",
        "*   Average Pitstop time in a race for a particular driver in a race\n",
        "*   Average Laptime in that particular race\n",
        "\n"
      ]
    },
    {
      "cell_type": "markdown",
      "metadata": {
        "id": "-LARRBdRvn5O"
      },
      "source": [
        "##Now, let's take a look at our Raw data, the average Lap times and the average Pitstop times."
      ]
    },
    {
      "cell_type": "code",
      "metadata": {
        "colab": {
          "base_uri": "https://localhost:8080/",
          "height": 406
        },
        "id": "Ne-pI0NJRgfn",
        "outputId": "4e530df3-4acf-4acd-cf68-3419d049886a"
      },
      "source": [
        "df1=pd.read_csv(\"filtered merged.csv\")\n",
        "df1"
      ],
      "execution_count": 107,
      "outputs": [
        {
          "output_type": "execute_result",
          "data": {
            "text/html": [
              "<div>\n",
              "<style scoped>\n",
              "    .dataframe tbody tr th:only-of-type {\n",
              "        vertical-align: middle;\n",
              "    }\n",
              "\n",
              "    .dataframe tbody tr th {\n",
              "        vertical-align: top;\n",
              "    }\n",
              "\n",
              "    .dataframe thead th {\n",
              "        text-align: right;\n",
              "    }\n",
              "</style>\n",
              "<table border=\"1\" class=\"dataframe\">\n",
              "  <thead>\n",
              "    <tr style=\"text-align: right;\">\n",
              "      <th></th>\n",
              "      <th>Unnamed: 0</th>\n",
              "      <th>Race ID</th>\n",
              "      <th>Driver ID</th>\n",
              "      <th>position</th>\n",
              "      <th>avg laptime</th>\n",
              "      <th>Avg Pit Time</th>\n",
              "    </tr>\n",
              "  </thead>\n",
              "  <tbody>\n",
              "    <tr>\n",
              "      <th>0</th>\n",
              "      <td>0</td>\n",
              "      <td>841</td>\n",
              "      <td>1</td>\n",
              "      <td>2.0</td>\n",
              "      <td>92975.103448</td>\n",
              "      <td>23213.000000</td>\n",
              "    </tr>\n",
              "    <tr>\n",
              "      <th>1</th>\n",
              "      <td>1</td>\n",
              "      <td>42</td>\n",
              "      <td>18</td>\n",
              "      <td>12.0</td>\n",
              "      <td>76989.958333</td>\n",
              "      <td>23252.750000</td>\n",
              "    </tr>\n",
              "    <tr>\n",
              "      <th>2</th>\n",
              "      <td>2</td>\n",
              "      <td>842</td>\n",
              "      <td>1</td>\n",
              "      <td>7.0</td>\n",
              "      <td>105531.946429</td>\n",
              "      <td>23252.750000</td>\n",
              "    </tr>\n",
              "    <tr>\n",
              "      <th>3</th>\n",
              "      <td>3</td>\n",
              "      <td>43</td>\n",
              "      <td>18</td>\n",
              "      <td>8.0</td>\n",
              "      <td>78758.357143</td>\n",
              "      <td>20659.333333</td>\n",
              "    </tr>\n",
              "    <tr>\n",
              "      <th>4</th>\n",
              "      <td>4</td>\n",
              "      <td>843</td>\n",
              "      <td>1</td>\n",
              "      <td>1.0</td>\n",
              "      <td>103896.892857</td>\n",
              "      <td>20659.333333</td>\n",
              "    </tr>\n",
              "    <tr>\n",
              "      <th>...</th>\n",
              "      <td>...</td>\n",
              "      <td>...</td>\n",
              "      <td>...</td>\n",
              "      <td>...</td>\n",
              "      <td>...</td>\n",
              "      <td>...</td>\n",
              "    </tr>\n",
              "    <tr>\n",
              "      <th>3921</th>\n",
              "      <td>4097</td>\n",
              "      <td>1052</td>\n",
              "      <td>854</td>\n",
              "      <td>16.0</td>\n",
              "      <td>101830.981818</td>\n",
              "      <td>25570.500000</td>\n",
              "    </tr>\n",
              "    <tr>\n",
              "      <th>3922</th>\n",
              "      <td>4099</td>\n",
              "      <td>1054</td>\n",
              "      <td>854</td>\n",
              "      <td>17.0</td>\n",
              "      <td>88732.046875</td>\n",
              "      <td>23572.666667</td>\n",
              "    </tr>\n",
              "    <tr>\n",
              "      <th>3923</th>\n",
              "      <td>4100</td>\n",
              "      <td>1055</td>\n",
              "      <td>854</td>\n",
              "      <td>18.0</td>\n",
              "      <td>87365.500000</td>\n",
              "      <td>23158.000000</td>\n",
              "    </tr>\n",
              "    <tr>\n",
              "      <th>3924</th>\n",
              "      <td>4101</td>\n",
              "      <td>1056</td>\n",
              "      <td>854</td>\n",
              "      <td>18.0</td>\n",
              "      <td>79684.253333</td>\n",
              "      <td>24797.000000</td>\n",
              "    </tr>\n",
              "    <tr>\n",
              "      <th>3925</th>\n",
              "      <td>4103</td>\n",
              "      <td>1059</td>\n",
              "      <td>854</td>\n",
              "      <td>19.0</td>\n",
              "      <td>101921.288462</td>\n",
              "      <td>31457.000000</td>\n",
              "    </tr>\n",
              "  </tbody>\n",
              "</table>\n",
              "<p>3926 rows × 6 columns</p>\n",
              "</div>"
            ],
            "text/plain": [
              "      Unnamed: 0  Race ID  Driver ID  position    avg laptime  Avg Pit Time\n",
              "0              0      841          1       2.0   92975.103448  23213.000000\n",
              "1              1       42         18      12.0   76989.958333  23252.750000\n",
              "2              2      842          1       7.0  105531.946429  23252.750000\n",
              "3              3       43         18       8.0   78758.357143  20659.333333\n",
              "4              4      843          1       1.0  103896.892857  20659.333333\n",
              "...          ...      ...        ...       ...            ...           ...\n",
              "3921        4097     1052        854      16.0  101830.981818  25570.500000\n",
              "3922        4099     1054        854      17.0   88732.046875  23572.666667\n",
              "3923        4100     1055        854      18.0   87365.500000  23158.000000\n",
              "3924        4101     1056        854      18.0   79684.253333  24797.000000\n",
              "3925        4103     1059        854      19.0  101921.288462  31457.000000\n",
              "\n",
              "[3926 rows x 6 columns]"
            ]
          },
          "metadata": {
            "tags": []
          },
          "execution_count": 107
        }
      ]
    },
    {
      "cell_type": "markdown",
      "metadata": {
        "id": "nKWwI28jv6Ov"
      },
      "source": [
        "###Inspecting the basic parameters of our dataset using pandas:"
      ]
    },
    {
      "cell_type": "code",
      "metadata": {
        "scrolled": true,
        "colab": {
          "base_uri": "https://localhost:8080/",
          "height": 287
        },
        "id": "T9UblffFRgfo",
        "outputId": "91eef184-ac66-428a-b67a-db394d1a01fa"
      },
      "source": [
        "df1.drop(columns=['Unnamed: 0','Race ID','Driver ID','position']).describe()"
      ],
      "execution_count": 82,
      "outputs": [
        {
          "output_type": "execute_result",
          "data": {
            "text/html": [
              "<div>\n",
              "<style scoped>\n",
              "    .dataframe tbody tr th:only-of-type {\n",
              "        vertical-align: middle;\n",
              "    }\n",
              "\n",
              "    .dataframe tbody tr th {\n",
              "        vertical-align: top;\n",
              "    }\n",
              "\n",
              "    .dataframe thead th {\n",
              "        text-align: right;\n",
              "    }\n",
              "</style>\n",
              "<table border=\"1\" class=\"dataframe\">\n",
              "  <thead>\n",
              "    <tr style=\"text-align: right;\">\n",
              "      <th></th>\n",
              "      <th>avg laptime</th>\n",
              "      <th>Avg Pit Time</th>\n",
              "    </tr>\n",
              "  </thead>\n",
              "  <tbody>\n",
              "    <tr>\n",
              "      <th>count</th>\n",
              "      <td>3926.000000</td>\n",
              "      <td>3926.000000</td>\n",
              "    </tr>\n",
              "    <tr>\n",
              "      <th>mean</th>\n",
              "      <td>99494.193197</td>\n",
              "      <td>24696.035885</td>\n",
              "    </tr>\n",
              "    <tr>\n",
              "      <th>std</th>\n",
              "      <td>19008.187893</td>\n",
              "      <td>4411.361896</td>\n",
              "    </tr>\n",
              "    <tr>\n",
              "      <th>min</th>\n",
              "      <td>62932.344828</td>\n",
              "      <td>16549.000000</td>\n",
              "    </tr>\n",
              "    <tr>\n",
              "      <th>25%</th>\n",
              "      <td>87230.852046</td>\n",
              "      <td>22085.500000</td>\n",
              "    </tr>\n",
              "    <tr>\n",
              "      <th>50%</th>\n",
              "      <td>99278.283019</td>\n",
              "      <td>23666.500000</td>\n",
              "    </tr>\n",
              "    <tr>\n",
              "      <th>75%</th>\n",
              "      <td>107601.534391</td>\n",
              "      <td>25953.000000</td>\n",
              "    </tr>\n",
              "    <tr>\n",
              "      <th>max</th>\n",
              "      <td>379323.607143</td>\n",
              "      <td>89258.000000</td>\n",
              "    </tr>\n",
              "  </tbody>\n",
              "</table>\n",
              "</div>"
            ],
            "text/plain": [
              "         avg laptime  Avg Pit Time\n",
              "count    3926.000000   3926.000000\n",
              "mean    99494.193197  24696.035885\n",
              "std     19008.187893   4411.361896\n",
              "min     62932.344828  16549.000000\n",
              "25%     87230.852046  22085.500000\n",
              "50%     99278.283019  23666.500000\n",
              "75%    107601.534391  25953.000000\n",
              "max    379323.607143  89258.000000"
            ]
          },
          "metadata": {
            "tags": []
          },
          "execution_count": 82
        }
      ]
    },
    {
      "cell_type": "markdown",
      "metadata": {
        "id": "4C-AAw3_xoA5"
      },
      "source": [
        "##Now, let's have a closer look at the mean and standard deviation of our data\n",
        "###For the Pitstop times:"
      ]
    },
    {
      "cell_type": "code",
      "metadata": {
        "colab": {
          "base_uri": "https://localhost:8080/"
        },
        "id": "qhK3izKkRgfp",
        "outputId": "86ee2a66-2abe-49f4-cc83-f191607009dd"
      },
      "source": [
        "truemean=df1['Avg Pit Time'].mean()\n",
        "truestd=df1['Avg Pit Time'].std()\n",
        "print(\"The true Mean and Standard deviation of the Pitstop times of the drivers are {} seconds and {} seconds respectively\".format(round(truemean/1000,2),round(truestd/1000,2)))"
      ],
      "execution_count": 114,
      "outputs": [
        {
          "output_type": "stream",
          "text": [
            "The true Mean and Standard deviation of the Pitstop times of the drivers are 24.7 seconds and 4.41 seconds respectively\n"
          ],
          "name": "stdout"
        }
      ]
    },
    {
      "cell_type": "markdown",
      "metadata": {
        "id": "5BUmhZw0y00g"
      },
      "source": [
        "##The histogram plot that can approximate the true distribution of the Pitstop time data is:"
      ]
    },
    {
      "cell_type": "code",
      "metadata": {
        "colab": {
          "base_uri": "https://localhost:8080/",
          "height": 264
        },
        "id": "iGYonMemRgfq",
        "outputId": "504a9c1d-8532-453b-cfde-51c037fbe477"
      },
      "source": [
        "df1['Avg Pit Time'].plot.hist(bins=250)\n",
        "plt.xlim(18000,40000);"
      ],
      "execution_count": 85,
      "outputs": [
        {
          "output_type": "display_data",
          "data": {
            "image/png": "[encoded data removed]",
            "text/plain": [
              "<Figure size 432x288 with 1 Axes>"
            ]
          },
          "metadata": {
            "tags": [],
            "needs_background": "light"
          }
        }
      ]
    },
    {
      "cell_type": "markdown",
      "metadata": {
        "id": "idBj5UdPzUDe"
      },
      "source": [
        "###For the Lap times:"
      ]
    },
    {
      "cell_type": "code",
      "metadata": {
        "colab": {
          "base_uri": "https://localhost:8080/"
        },
        "id": "AvbjQ9acyB8I",
        "outputId": "0d9c462f-244c-403d-e074-cc76a7314b58"
      },
      "source": [
        "mean_lap=df1['avg laptime'].mean()\n",
        "std_lap=df1['avg laptime'].std()\n",
        "print(\"The true Mean and Standard deviation of the Lap times of the drivers are {} seconds and {} seconds respectively\".format(round(mean_lap,2),round(std_lap,2)))"
      ],
      "execution_count": 115,
      "outputs": [
        {
          "output_type": "stream",
          "text": [
            "The true Mean and Standard deviation of the Lap times of the drivers are 99494.19 seconds and 19008.19 seconds respectively\n"
          ],
          "name": "stdout"
        }
      ]
    },
    {
      "cell_type": "markdown",
      "metadata": {
        "id": "Wh3UwCdgzKwA"
      },
      "source": [
        "##The histogram plot that can approximate the true distribution of the Lap time data is:"
      ]
    },
    {
      "cell_type": "code",
      "metadata": {
        "colab": {
          "base_uri": "https://localhost:8080/",
          "height": 268
        },
        "id": "BWBvQf9RRgfq",
        "outputId": "873341dc-b0b9-4abc-8110-9c4d0d561beb"
      },
      "source": [
        "plt.hist(df1['avg laptime'],bins=70);\n",
        "plt.xlim(60000,140000);"
      ],
      "execution_count": 86,
      "outputs": [
        {
          "output_type": "display_data",
          "data": {
            "image/png": "[encoded data removed]",
            "text/plain": [
              "<Figure size 432x288 with 1 Axes>"
            ]
          },
          "metadata": {
            "tags": [],
            "needs_background": "light"
          }
        }
      ]
    },
    {
      "cell_type": "markdown",
      "metadata": {
        "id": "WcLx63XEzj9M"
      },
      "source": [
        "##The Scatter plot of the two random variables can be obtained as follows:"
      ]
    },
    {
      "cell_type": "code",
      "metadata": {
        "scrolled": true,
        "colab": {
          "base_uri": "https://localhost:8080/",
          "height": 264
        },
        "id": "UWBmQK0ORgfr",
        "outputId": "04fc7c7e-bbfd-4fa2-f0ab-dbdd8ffdc847"
      },
      "source": [
        "plt.scatter(y = df1['Avg Pit Time'],x = df1['avg laptime'],alpha=0.5);"
      ],
      "execution_count": 87,
      "outputs": [
        {
          "output_type": "display_data",
          "data": {
            "image/png": "[encoded data removed]",
            "text/plain": [
              "<Figure size 432x288 with 1 Axes>"
            ]
          },
          "metadata": {
            "tags": [],
            "needs_background": "light"
          }
        }
      ]
    },
    {
      "cell_type": "markdown",
      "metadata": {
        "id": "Z32R6sMrz2S4"
      },
      "source": [
        "##Let's look at the Joint distribution of the lap times and the pitstop time data using the ```jointplot``` function from ```seaborn```"
      ]
    },
    {
      "cell_type": "code",
      "metadata": {
        "colab": {
          "base_uri": "https://localhost:8080/",
          "height": 441
        },
        "id": "4EKgfUrRRgfr",
        "outputId": "a9d33030-f034-4964-b302-e159fb13ad46"
      },
      "source": [
        "g = sns.jointplot(data=df1, x=\"Avg Pit Time\", y=\"avg laptime\", kind=\"hist\",xlim=(15000,45000), ylim=(50000,150000));"
      ],
      "execution_count": 88,
      "outputs": [
        {
          "output_type": "display_data",
          "data": {
            "image/png": "[encoded data removed]",
            "text/plain": [
              "<Figure size 432x432 with 3 Axes>"
            ]
          },
          "metadata": {
            "tags": [],
            "needs_background": "light"
          }
        }
      ]
    },
    {
      "cell_type": "code",
      "metadata": {
        "id": "muaQrCzXGmDJ"
      },
      "source": [
        "data=pd.read_csv('filtered merged.csv')\n",
        "data=data.dropna()"
      ],
      "execution_count": 89,
      "outputs": []
    },
    {
      "cell_type": "markdown",
      "metadata": {
        "id": "p-79JEri1p6t"
      },
      "source": [
        "###Before generating the sampling distribution of the sample means and variances for our data, let us recall the true parameters.\n",
        "\n",
        "Parameter | Pitstop Times  | Lap times\n",
        "----------|-------------------|------------------\n",
        "Mean      |24.7 seconds  | 99494 seconds\n",
        "Variance |4.41 seconds      | 19008 seconds\n",
        "\n"
      ]
    },
    {
      "cell_type": "markdown",
      "metadata": {
        "id": "Nbr-KuEJ0u5h"
      },
      "source": [
        "##Generating the Sampling distribution of the sample means and variances for the data"
      ]
    },
    {
      "cell_type": "markdown",
      "metadata": {
        "id": "oQ2-yvJ108qb"
      },
      "source": [
        "###Generating the samples for Laptimes:"
      ]
    },
    {
      "cell_type": "code",
      "metadata": {
        "id": "jyHItRRdGmDL"
      },
      "source": [
        "means=[]\n",
        "variances=[]\n",
        "stds=[]\n",
        "for i in range(1000):\n",
        "    sample=data['avg laptime'].sample(100,replace=True)\n",
        "    means.append(sample.mean())\n",
        "    variances.append(sample.var())\n",
        "    stds.append(sample.std())\n",
        "    "
      ],
      "execution_count": 93,
      "outputs": []
    },
    {
      "cell_type": "markdown",
      "metadata": {
        "id": "XsRKezeB1BMP"
      },
      "source": [
        "##Plot of the sampling distribution for laptimes"
      ]
    },
    {
      "cell_type": "markdown",
      "metadata": {
        "id": "VoihkeyN1VFI"
      },
      "source": [
        "###Mean:"
      ]
    },
    {
      "cell_type": "code",
      "metadata": {
        "id": "NPbkT37GGmDL",
        "colab": {
          "base_uri": "https://localhost:8080/",
          "height": 264
        },
        "outputId": "7cde9e5a-257e-47b6-e44c-df5b6cd5247c"
      },
      "source": [
        "plt.hist(means,bins=50)\n",
        "plt.show()"
      ],
      "execution_count": 94,
      "outputs": [
        {
          "output_type": "display_data",
          "data": {
            "image/png": "[encoded data removed]",
            "text/plain": [
              "<Figure size 432x288 with 1 Axes>"
            ]
          },
          "metadata": {
            "tags": [],
            "needs_background": "light"
          }
        }
      ]
    },
    {
      "cell_type": "markdown",
      "metadata": {
        "id": "ZmdaDfAI1Zjt"
      },
      "source": [
        "###Variance:"
      ]
    },
    {
      "cell_type": "code",
      "metadata": {
        "id": "WhFkP8mMGmDL",
        "colab": {
          "base_uri": "https://localhost:8080/",
          "height": 277
        },
        "outputId": "283aaa57-01dd-4965-f336-547c91100c99"
      },
      "source": [
        "plt.hist(variances,bins=50)\n",
        "plt.show()"
      ],
      "execution_count": 95,
      "outputs": [
        {
          "output_type": "display_data",
          "data": {
            "image/png": "[encoded data removed]",
            "text/plain": [
              "<Figure size 432x288 with 1 Axes>"
            ]
          },
          "metadata": {
            "tags": [],
            "needs_background": "light"
          }
        }
      ]
    },
    {
      "cell_type": "markdown",
      "metadata": {
        "id": "EajJyUh23-Qj"
      },
      "source": [
        "###Similarly,generating the samples for Pitstop times:"
      ]
    },
    {
      "cell_type": "code",
      "metadata": {
        "id": "pbciZUq9GmDM"
      },
      "source": [
        "means_=[]\n",
        "variances_=[]\n",
        "stds_=[]\n",
        "for i in range(1000):\n",
        "    sample=data['Avg Pit Time'].sample(100,replace=True)\n",
        "    means_.append(sample.mean())\n",
        "    variances_.append(sample.var())\n",
        "    stds_.append(sample.std())\n",
        "    "
      ],
      "execution_count": 97,
      "outputs": []
    },
    {
      "cell_type": "markdown",
      "metadata": {
        "id": "oQ8QTKh64K3s"
      },
      "source": [
        "##Plot of the sampling distribution for Pitstop times"
      ]
    },
    {
      "cell_type": "markdown",
      "metadata": {
        "id": "y6Sm3Xwe4NOS"
      },
      "source": [
        "###Mean:"
      ]
    },
    {
      "cell_type": "code",
      "metadata": {
        "id": "U18chzV7GmDM",
        "colab": {
          "base_uri": "https://localhost:8080/",
          "height": 264
        },
        "outputId": "1bb59390-fb08-4f30-974a-857405e9431d"
      },
      "source": [
        "plt.hist(means_,bins=100)\n",
        "plt.show()"
      ],
      "execution_count": 98,
      "outputs": [
        {
          "output_type": "display_data",
          "data": {
            "image/png": "[encoded data removed]",
            "text/plain": [
              "<Figure size 432x288 with 1 Axes>"
            ]
          },
          "metadata": {
            "tags": [],
            "needs_background": "light"
          }
        }
      ]
    },
    {
      "cell_type": "markdown",
      "metadata": {
        "id": "1OJ-3uDt4Z0e"
      },
      "source": [
        "###Variance:"
      ]
    },
    {
      "cell_type": "code",
      "metadata": {
        "id": "AGaP6XKzGmDN",
        "colab": {
          "base_uri": "https://localhost:8080/",
          "height": 277
        },
        "outputId": "0bba4009-a41a-4474-dedc-a65d21402c51"
      },
      "source": [
        "plt.hist(variances_,bins=50)\n",
        "plt.show()"
      ],
      "execution_count": 99,
      "outputs": [
        {
          "output_type": "display_data",
          "data": {
            "image/png": "[encoded data removed]",
            "text/plain": [
              "<Figure size 432x288 with 1 Axes>"
            ]
          },
          "metadata": {
            "tags": [],
            "needs_background": "light"
          }
        }
      ]
    },
    {
      "cell_type": "markdown",
      "metadata": {
        "id": "bt4Gz02B4yVz"
      },
      "source": [
        "###Now that we have plotted the sampling distribution for a specific number of samples, we can advance it further by exploring the sampling distributions when the sample sizes and number of samples can be varied"
      ]
    },
    {
      "cell_type": "code",
      "metadata": {
        "id": "DFbj_GEXGmDN"
      },
      "source": [
        "def f(Input,value,sample_size,bins):\n",
        "    mean=[]\n",
        "    variance=[]\n",
        "    std=[]\n",
        "    if Input=='Laptime':\n",
        "        x='avg laptime'\n",
        "    else :\n",
        "        x='Avg Pit Time'\n",
        "    for i in range(1000):\n",
        "        sample=data[x].sample(sample_size,replace=True)\n",
        "        mean.append(sample.mean())\n",
        "        variance.append(sample.var())\n",
        "        std.append(sample.std())\n",
        "    plt.hist(eval(value),bins=bins)\n",
        "    "
      ],
      "execution_count": 100,
      "outputs": []
    },
    {
      "cell_type": "code",
      "metadata": {
        "colab": {
          "base_uri": "https://localhost:8080/",
          "height": 393,
          "referenced_widgets": [
            "086c683cfec040518d3f507b1e262eb4",
            "71fcd3a7108f4bd7a859eb99a69ed3a5",
            "ec478c2f1bdd4c8089711fcb7a6dab63",
            "18ce2ca5edfc48fbaf7f896012a13091",
            "63e0d16160784ade8d4e04ef59108aec",
            "7a53b781657e4bb79185f70a22338d39",
            "2fea2b37b3f04d69a929dbc15534b0fd",
            "df250a42b2a045758383850c57c70295",
            "09d574e7fa1c4771924356156570b2cc",
            "7f5591299792478ea69ae7df759ff914",
            "be93747a01094ca89e40af23063ca2c3",
            "6b0dc420112f413090ebe8befba935c7",
            "29344d82f99d4de8b46e39f5819b76ed",
            "a13156f0632d430ea429f18a8c70ae71",
            "ed0ad962c19b4ce1a27ab84fc6de798a",
            "1354a533866347d7bb7b24aff49d957d"
          ]
        },
        "id": "4QsGxVlnGmDN",
        "scrolled": true,
        "outputId": "168aa62f-b3b9-45e1-ab84-70b28df122c7"
      },
      "source": [
        "interact(f,Input=['Laptime',\"Pit Time\"],value=['mean','variance','std'],sample_size=(1,1000),bins=(1,500));"
      ],
      "execution_count": 101,
      "outputs": [
        {
          "output_type": "display_data",
          "data": {
            "application/vnd.jupyter.widget-view+json": {
              "model_id": "086c683cfec040518d3f507b1e262eb4",
              "version_minor": 0,
              "version_major": 2
            },
            "text/plain": [
              "interactive(children=(Dropdown(description='Input', options=('Laptime', 'Pit Time'), value='Laptime'), Dropdow…"
            ]
          },
          "metadata": {
            "tags": []
          }
        }
      ]
    },
    {
      "cell_type": "markdown",
      "metadata": {
        "id": "9bKqVKAQGmDN"
      },
      "source": [
        "##<b>Point and Interval Estimates of Laptime and Pit Time Parameters</b>"
      ]
    },
    {
      "cell_type": "code",
      "metadata": {
        "id": "8GnoBW-kGmDN",
        "colab": {
          "base_uri": "https://localhost:8080/"
        },
        "outputId": "67b3b988-1b9f-42c6-b2d5-28a894efa2ca"
      },
      "source": [
        "#POINT ESTMATION OF MEAN AND VARIANCE OF LAPTIME\n",
        "s_means=[]\n",
        "S=[]\n",
        "\n",
        "for i in range(1000):\n",
        "    sample=np.array(data['avg laptime'].sample(100,replace=True))\n",
        "    sample_mean=sample.mean()\n",
        "    s_means.append(sample_mean)\n",
        "    sample_S=np.sum(pow(sample-sample_mean,2))/(100-1)\n",
        "    S.append(sample_S)\n",
        "print('Estimate of MEAN LAPTIME :',np.mean(s_means)) \n",
        "print('True MEAN LAPTIME :',data['avg laptime'].mean(),'\\n') \n",
        "print('Estimate of VARIANCE LAPTIME DATA :',np.var(s_means))  \n",
        "print('True VARIANCE of LAPTIME DATA :',data['avg laptime'].var()) "
      ],
      "execution_count": 102,
      "outputs": [
        {
          "output_type": "stream",
          "text": [
            "Estimate of MEAN LAPTIME : 99480.293661752\n",
            "True MEAN LAPTIME : 99494.19319722841 \n",
            "\n",
            "Estimate of VARIANCE LAPTIME DATA : 3285873.7074307096\n",
            "True VARIANCE of LAPTIME DATA : 361311206.95998484\n"
          ],
          "name": "stdout"
        }
      ]
    },
    {
      "cell_type": "code",
      "metadata": {
        "id": "cnsbVSvMGmDO",
        "colab": {
          "base_uri": "https://localhost:8080/"
        },
        "outputId": "0c77e33e-c7ce-433f-a38b-19d8fd9ea3bb"
      },
      "source": [
        "#POINT ESTMATION OF MEAN AND VARIANCE OF PIT TIME\n",
        "s_means=[]\n",
        "S=[]\n",
        "\n",
        "for i in range(1000):\n",
        "    sample=np.array(data['Avg Pit Time'].sample(100,replace=True))\n",
        "    sample_mean=sample.mean()\n",
        "    s_means.append(sample_mean)\n",
        "    sample_S=np.sum(pow(sample-sample_mean,2))/(100-1)\n",
        "    S.append(sample_S)\n",
        "print('Estimate of MEAN PIT TIME :',np.mean(s_means)) \n",
        "print('True MEAN PIT TIME :',data['Avg Pit Time'].mean(),'\\n') \n",
        "print('Estimate of VARIANCE PIT TIME DATA :',np.var(s_means))  \n",
        "print('True VARIANCE of PIT TIME DATA :',data['Avg Pit Time'].var())"
      ],
      "execution_count": 103,
      "outputs": [
        {
          "output_type": "stream",
          "text": [
            "Estimate of MEAN PIT TIME : 24683.776595\n",
            "True MEAN PIT TIME : 24696.035884700286 \n",
            "\n",
            "Estimate of VARIANCE PIT TIME DATA : 184805.56545494843\n",
            "True VARIANCE of PIT TIME DATA : 19460113.77522369\n"
          ],
          "name": "stdout"
        }
      ]
    },
    {
      "cell_type": "code",
      "metadata": {
        "id": "uOcA0w4_GmDO"
      },
      "source": [
        "#CONFIDENCE INTERVAL ESTIMATION OF MEAN AND VARIANCE \n",
        "\n",
        "def comp_interval(Input,value,sample_size,Conf_level):\n",
        "    if Input=='Laptime':\n",
        "        x='avg laptime'\n",
        "    else :\n",
        "        x='Avg Pit Time'\n",
        "    sample=np.array(data[x].sample(sample_size,replace=True))\n",
        "    if value=='mean':        \n",
        "        mu=data[x].mean()  \n",
        "        x_bar=np.mean(sample)\n",
        "        S=np.std(sample)\n",
        "        t_CI=t(sample_size-1).ppf((1-(Conf_level/100))/2)\n",
        "        cmin,cmax=x_bar+(t_CI*(S/sqrt(sample_size))),x_bar-(t_CI*(S/sqrt(sample_size)))    \n",
        "        return print('True mean of',Input,' :',mu,'\\n',Conf_level,'% confidence interval : ',[cmin,cmax])\n",
        "    else:\n",
        "        variance=data[x].var() \n",
        "        S=np.var(sample)\n",
        "        alpha=1-(Conf_level/100)\n",
        "        cmax,cmin=sample_size*(S/chi2(sample_size-1).ppf(alpha/2)),(sample_size*(S/chi2(sample_size-1).ppf(1-(alpha/2))))\n",
        "        return print('True variance of',Input,' :',variance,'\\n',Conf_level,'% confidence interval : ',[cmin,cmax])\n",
        "        \n"
      ],
      "execution_count": 104,
      "outputs": []
    },
    {
      "cell_type": "code",
      "metadata": {
        "colab": {
          "base_uri": "https://localhost:8080/",
          "height": 180,
          "referenced_widgets": [
            "6805ec82c23d461aba2cded30b68264e",
            "afc66c46d0414992811fe4d90ff8ff82",
            "6ad4568e84664457ab98128083866e9e",
            "3d0092f3e62d41f3a3ec3cf2d79e11ad",
            "ee8783c96b4c47be944aeab4cfe863e8",
            "7827aef23b294a19a3b02b4bee17f360",
            "ad5535f987a8429c8645d8e4f0e7c8a8",
            "6e90c9cbdcd24765af23c616c5d9eab8",
            "1c9527cf39924683bb247b199c81bc67",
            "aae1d1ea4a804acfa599bdebbca4e132",
            "f1cd1524e9df489ebdb0ccc99b28efc7",
            "c33420b77748451eae73afcac403975c",
            "c22b3da9261a4621a66ef2d69c19d9dc",
            "586310a7fa1f4f7ebcf02a6b9610c901",
            "4063e079bf3b4416aa83d73ca7d22778",
            "66f74e328dd549b886fd9fdcfae77fcf"
          ]
        },
        "id": "-9CY00AXGmDO",
        "outputId": "3395751e-716a-45f7-b8cb-41a987f84323"
      },
      "source": [
        "interact(comp_interval,Input=['Laptime',\"Pit Time\"],value=['mean','variance'],sample_size=(1,1000),Conf_level=(50,99.9));"
      ],
      "execution_count": 105,
      "outputs": [
        {
          "output_type": "display_data",
          "data": {
            "application/vnd.jupyter.widget-view+json": {
              "model_id": "6805ec82c23d461aba2cded30b68264e",
              "version_minor": 0,
              "version_major": 2
            },
            "text/plain": [
              "interactive(children=(Dropdown(description='Input', options=('Laptime', 'Pit Time'), value='Laptime'), Dropdow…"
            ]
          },
          "metadata": {
            "tags": []
          }
        }
      ]
    },
    {
      "cell_type": "code",
      "metadata": {
        "colab": {
          "base_uri": "https://localhost:8080/",
          "height": 107
        },
        "id": "j-QR_YsggMUX",
        "outputId": "2fe0ccef-aa82-4768-e293-cea719e43280"
      },
      "source": [
        "datanew = df1.drop(columns=['Unnamed: 0','Race ID','Driver ID','position'])\n",
        "datanew.corr(method= 'pearson')"
      ],
      "execution_count": 106,
      "outputs": [
        {
          "output_type": "execute_result",
          "data": {
            "text/html": [
              "<div>\n",
              "<style scoped>\n",
              "    .dataframe tbody tr th:only-of-type {\n",
              "        vertical-align: middle;\n",
              "    }\n",
              "\n",
              "    .dataframe tbody tr th {\n",
              "        vertical-align: top;\n",
              "    }\n",
              "\n",
              "    .dataframe thead th {\n",
              "        text-align: right;\n",
              "    }\n",
              "</style>\n",
              "<table border=\"1\" class=\"dataframe\">\n",
              "  <thead>\n",
              "    <tr style=\"text-align: right;\">\n",
              "      <th></th>\n",
              "      <th>avg laptime</th>\n",
              "      <th>Avg Pit Time</th>\n",
              "    </tr>\n",
              "  </thead>\n",
              "  <tbody>\n",
              "    <tr>\n",
              "      <th>avg laptime</th>\n",
              "      <td>1.000000</td>\n",
              "      <td>0.237987</td>\n",
              "    </tr>\n",
              "    <tr>\n",
              "      <th>Avg Pit Time</th>\n",
              "      <td>0.237987</td>\n",
              "      <td>1.000000</td>\n",
              "    </tr>\n",
              "  </tbody>\n",
              "</table>\n",
              "</div>"
            ],
            "text/plain": [
              "              avg laptime  Avg Pit Time\n",
              "avg laptime      1.000000      0.237987\n",
              "Avg Pit Time     0.237987      1.000000"
            ]
          },
          "metadata": {
            "tags": []
          },
          "execution_count": 106
        }
      ]
    }
  ]
}